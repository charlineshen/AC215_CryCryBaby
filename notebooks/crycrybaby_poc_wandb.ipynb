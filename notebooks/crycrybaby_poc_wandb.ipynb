{
  "cells": [
    {
      "cell_type": "code",
      "source": [
        "!pip install -q wandb"
      ],
      "metadata": {
        "colab": {
          "base_uri": "https://localhost:8080/"
        },
        "id": "3otNx2hGPRJ7",
        "outputId": "1a02caf8-f7a6-425d-8276-07abd17e25dc"
      },
      "id": "3otNx2hGPRJ7",
      "execution_count": 1,
      "outputs": [
        {
          "output_type": "stream",
          "name": "stdout",
          "text": [
            "\u001b[2K     \u001b[90m━━━━━━━━━━━━━━━━━━━━━━━━━━━━━━━━━━━━━━━━\u001b[0m \u001b[32m2.1/2.1 MB\u001b[0m \u001b[31m18.8 MB/s\u001b[0m eta \u001b[36m0:00:00\u001b[0m\n",
            "\u001b[2K     \u001b[90m━━━━━━━━━━━━━━━━━━━━━━━━━━━━━━━━━━━━━━\u001b[0m \u001b[32m190.0/190.0 kB\u001b[0m \u001b[31m19.1 MB/s\u001b[0m eta \u001b[36m0:00:00\u001b[0m\n",
            "\u001b[2K     \u001b[90m━━━━━━━━━━━━━━━━━━━━━━━━━━━━━━━━━━━━━━\u001b[0m \u001b[32m224.8/224.8 kB\u001b[0m \u001b[31m15.5 MB/s\u001b[0m eta \u001b[36m0:00:00\u001b[0m\n",
            "\u001b[?25h  Preparing metadata (setup.py) ... \u001b[?25l\u001b[?25hdone\n",
            "\u001b[2K     \u001b[90m━━━━━━━━━━━━━━━━━━━━━━━━━━━━━━━━━━━━━━━━\u001b[0m \u001b[32m62.7/62.7 kB\u001b[0m \u001b[31m5.9 MB/s\u001b[0m eta \u001b[36m0:00:00\u001b[0m\n",
            "\u001b[?25h  Building wheel for pathtools (setup.py) ... \u001b[?25l\u001b[?25hdone\n"
          ]
        }
      ]
    },
    {
      "cell_type": "code",
      "execution_count": 16,
      "id": "1e3ea633-6628-4c86-867c-733afffeb7c0",
      "metadata": {
        "id": "1e3ea633-6628-4c86-867c-733afffeb7c0"
      },
      "outputs": [],
      "source": [
        "import matplotlib.pyplot as plt\n",
        "import numpy as np\n",
        "import pandas as pd\n",
        "\n",
        "import os\n",
        "from numpy.lib import stride_tricks\n",
        "\n",
        "from sklearn.model_selection import train_test_split\n",
        "\n",
        "from scipy import signal\n",
        "from scipy.io import wavfile as wav\n",
        "\n",
        "import torch\n",
        "import torchvision\n",
        "from torch.utils.data import Dataset, DataLoader\n",
        "from torchvision import transforms\n",
        "\n",
        "#import cv2\n",
        "import librosa\n",
        "import librosa.display\n",
        "\n",
        "from tensorflow.keras import layers, models\n",
        "import tensorflow as tf\n",
        "from sklearn.metrics import accuracy_score\n",
        "\n",
        "# W&B\n",
        "import wandb\n",
        "from wandb.keras import WandbCallback, WandbMetricsLogger\n",
        "\n",
        "import time"
      ]
    },
    {
      "cell_type": "code",
      "source": [
        "import os\n",
        "import subprocess\n",
        "\n",
        "# Define the GitHub repository URL\n",
        "github_repo_url = \"https://github.com/gveres/donateacry-corpus.git\"\n",
        "\n",
        "# Clone the repository\n",
        "subprocess.run([\"git\", \"clone\", github_repo_url])\n",
        "\n",
        "# Define the path to the cloned repository\n",
        "repo_path = \"donateacry-corpus\"\n",
        "\n",
        "# Initialize empty lists to store WAV file paths and folder names\n",
        "wav_files = []\n",
        "folder_names = []\n",
        "\n",
        "# Walk through the directory structure to find WAV files and their folders\n",
        "for root, dirs, files in os.walk(repo_path):\n",
        "    for file in files:\n",
        "        if file.endswith(\".wav\"):\n",
        "            # Get the full path of the WAV file\n",
        "            wav_path = os.path.join(root, file)\n",
        "\n",
        "            # Extract the folder name from the path\n",
        "            folder_name = os.path.basename(root)\n",
        "\n",
        "            # Append the WAV file path and folder name to the respective lists\n",
        "            wav_files.append(wav_path)\n",
        "            folder_names.append(folder_name)"
      ],
      "metadata": {
        "id": "T1AE5GGAPy1d"
      },
      "id": "T1AE5GGAPy1d",
      "execution_count": 7,
      "outputs": []
    },
    {
      "cell_type": "code",
      "execution_count": 8,
      "id": "8a4ab128-9bb4-4b07-a7f2-d12d20796f11",
      "metadata": {
        "id": "8a4ab128-9bb4-4b07-a7f2-d12d20796f11"
      },
      "outputs": [],
      "source": [
        "def wav_to_spectrogram(file_path, output_shape=(128, 64)):\n",
        "    # Load the WAV file\n",
        "    y, sr = librosa.load(file_path, sr=None)\n",
        "    # print(sr)\n",
        "\n",
        "    # Generate the spectrogram\n",
        "    spectrogram = librosa.feature.melspectrogram(y=y, sr=sr)\n",
        "\n",
        "    # Resize the spectrogram to the desired shape (e.g., 128x64)\n",
        "    spectrogram = librosa.util.fix_length(spectrogram, size=output_shape[1], mode='constant', constant_values=0)\n",
        "\n",
        "    # Normalize the spectrogram to values between 0 and 1\n",
        "    spectrogram = librosa.util.normalize(spectrogram)\n",
        "\n",
        "    return spectrogram, sr\n",
        "\n",
        "# Example usage:\n",
        "# spectrogram, sr = wav_to_spectrogram('donateacry_corpus_cleaned_and_updated_data/belly_pain/69BDA5D6-0276-4462-9BF7-951799563728-1436936185-1.1-m-26-bp.wav')"
      ]
    },
    {
      "cell_type": "code",
      "execution_count": 10,
      "id": "b5458780-3739-481f-a04b-c77c4b721f01",
      "metadata": {
        "colab": {
          "base_uri": "https://localhost:8080/"
        },
        "id": "b5458780-3739-481f-a04b-c77c4b721f01",
        "outputId": "b705d0a0-63ed-4b10-a2c1-99a8ef57a08c"
      },
      "outputs": [
        {
          "output_type": "stream",
          "name": "stdout",
          "text": [
            "X shape: (457, 128, 64)\n",
            "y shape: (457,)\n"
          ]
        }
      ],
      "source": [
        "# Initialize empty lists to store spectrograms and labels\n",
        "X = []\n",
        "y = []\n",
        "\n",
        "# Iterate through the WAV files and folder names\n",
        "for wav_file, folder_name in zip(wav_files, folder_names):\n",
        "    # Check if the folder name is one of the labels\n",
        "    if folder_name in labels:\n",
        "        label_idx = labels.index(folder_name)\n",
        "\n",
        "        # Convert WAV to spectrogram using the wav_to_spectrogram function\n",
        "        spectrogram, sr = wav_to_spectrogram(wav_file)\n",
        "\n",
        "        # Append the spectrogram to X\n",
        "        X.append(spectrogram)\n",
        "\n",
        "        # Append the label index (numeric representation of the label) to y\n",
        "        y.append(label_idx)\n",
        "\n",
        "# Convert lists to NumPy arrays for further processing\n",
        "X = np.array(X)\n",
        "y = np.array(y)\n",
        "\n",
        "# Check the shapes\n",
        "print(f'X shape: {X.shape}')\n",
        "print(f'y shape: {y.shape}')"
      ]
    },
    {
      "cell_type": "code",
      "execution_count": 11,
      "id": "251f249b-e593-4031-89f1-04dbf0425378",
      "metadata": {
        "colab": {
          "base_uri": "https://localhost:8080/"
        },
        "id": "251f249b-e593-4031-89f1-04dbf0425378",
        "outputId": "d7caf283-0c53-4f80-8700-897c819b1486"
      },
      "outputs": [
        {
          "output_type": "execute_result",
          "data": {
            "text/plain": [
              "array([2, 2, 2, 2, 2, 2, 2, 2, 2, 2, 2, 2, 2, 2, 2, 2, 2, 2, 2, 2, 2, 2,\n",
              "       2, 2, 2, 2, 2, 1, 1, 1, 1, 1, 1, 1, 1, 0, 0, 0, 0, 0, 0, 0, 0, 0,\n",
              "       0, 0, 0, 0, 0, 0, 0, 3, 3, 3, 3, 3, 3, 3, 3, 3, 3, 3, 3, 3, 3, 3,\n",
              "       3, 3, 3, 3, 3, 3, 3, 3, 3, 3, 3, 3, 3, 3, 3, 3, 3, 3, 3, 3, 3, 3,\n",
              "       3, 3, 3, 3, 3, 3, 3, 3, 3, 3, 3, 3, 3, 3, 3, 3, 3, 3, 3, 3, 3, 3,\n",
              "       3, 3, 3, 3, 3, 3, 3, 3, 3, 3, 3, 3, 3, 3, 3, 3, 3, 3, 3, 3, 3, 3,\n",
              "       3, 3, 3, 3, 3, 3, 3, 3, 3, 3, 3, 3, 3, 3, 3, 3, 3, 3, 3, 3, 3, 3,\n",
              "       3, 3, 3, 3, 3, 3, 3, 3, 3, 3, 3, 3, 3, 3, 3, 3, 3, 3, 3, 3, 3, 3,\n",
              "       3, 3, 3, 3, 3, 3, 3, 3, 3, 3, 3, 3, 3, 3, 3, 3, 3, 3, 3, 3, 3, 3,\n",
              "       3, 3, 3, 3, 3, 3, 3, 3, 3, 3, 3, 3, 3, 3, 3, 3, 3, 3, 3, 3, 3, 3,\n",
              "       3, 3, 3, 3, 3, 3, 3, 3, 3, 3, 3, 3, 3, 3, 3, 3, 3, 3, 3, 3, 3, 3,\n",
              "       3, 3, 3, 3, 3, 3, 3, 3, 3, 3, 3, 3, 3, 3, 3, 3, 3, 3, 3, 3, 3, 3,\n",
              "       3, 3, 3, 3, 3, 3, 3, 3, 3, 3, 3, 3, 3, 3, 3, 3, 3, 3, 3, 3, 3, 3,\n",
              "       3, 3, 3, 3, 3, 3, 3, 3, 3, 3, 3, 3, 3, 3, 3, 3, 3, 3, 3, 3, 3, 3,\n",
              "       3, 3, 3, 3, 3, 3, 3, 3, 3, 3, 3, 3, 3, 3, 3, 3, 3, 3, 3, 3, 3, 3,\n",
              "       3, 3, 3, 3, 3, 3, 3, 3, 3, 3, 3, 3, 3, 3, 3, 3, 3, 3, 3, 3, 3, 3,\n",
              "       3, 3, 3, 3, 3, 3, 3, 3, 3, 3, 3, 3, 3, 3, 3, 3, 3, 3, 3, 3, 3, 3,\n",
              "       3, 3, 3, 3, 3, 3, 3, 3, 3, 3, 3, 3, 3, 3, 3, 3, 3, 3, 3, 3, 3, 3,\n",
              "       3, 3, 3, 3, 3, 3, 3, 3, 3, 3, 3, 3, 3, 3, 3, 3, 3, 3, 3, 3, 3, 3,\n",
              "       3, 3, 3, 3, 3, 3, 3, 3, 3, 3, 3, 3, 3, 3, 3, 4, 4, 4, 4, 4, 4, 4,\n",
              "       4, 4, 4, 4, 4, 4, 4, 4, 4, 4, 4, 4, 4, 4, 4, 4, 4])"
            ]
          },
          "metadata": {},
          "execution_count": 11
        }
      ],
      "source": [
        "y"
      ]
    },
    {
      "cell_type": "code",
      "execution_count": 12,
      "id": "7f18ff2e-fdd3-472f-9909-9e9657a2245f",
      "metadata": {
        "id": "7f18ff2e-fdd3-472f-9909-9e9657a2245f"
      },
      "outputs": [],
      "source": [
        "X_train, X_test, y_train, y_test = train_test_split(X, y, test_size=0.20, random_state=215)"
      ]
    },
    {
      "cell_type": "code",
      "execution_count": 13,
      "id": "1c1ebfe3-46bb-4eaf-96a4-6e18eff664cd",
      "metadata": {
        "id": "1c1ebfe3-46bb-4eaf-96a4-6e18eff664cd"
      },
      "outputs": [],
      "source": [
        "num_classes = len(np.unique(y_train))\n",
        "\n",
        "model = models.Sequential([\n",
        "    layers.Input(shape=(128, 64)),  # Adjust the input shape based on your spectrogram size\n",
        "    layers.Reshape(target_shape=(128, 64, 1)),  # Add a channel dimension\n",
        "    layers.Conv2D(32, (3, 3), activation='relu'),\n",
        "    layers.MaxPooling2D((2, 2)),\n",
        "    layers.Flatten(),\n",
        "    layers.Dense(128, activation='relu'),\n",
        "    layers.Dense(num_classes, activation='softmax')\n",
        "])\n",
        "\n",
        "# Compile the model\n",
        "model.compile(optimizer='adam',\n",
        "              loss='categorical_crossentropy',\n",
        "              metrics=['accuracy'])\n"
      ]
    },
    {
      "cell_type": "code",
      "source": [
        "wandb.login()"
      ],
      "metadata": {
        "colab": {
          "base_uri": "https://localhost:8080/"
        },
        "id": "fxbLtyH2PkJX",
        "outputId": "41139b2f-81eb-4106-890e-14841979dc9b"
      },
      "id": "fxbLtyH2PkJX",
      "execution_count": 14,
      "outputs": [
        {
          "output_type": "stream",
          "name": "stderr",
          "text": [
            "\u001b[34m\u001b[1mwandb\u001b[0m: Currently logged in as: \u001b[33mjessica-gochioco\u001b[0m (\u001b[33mac215-ccb\u001b[0m). Use \u001b[1m`wandb login --relogin`\u001b[0m to force relogin\n"
          ]
        },
        {
          "output_type": "execute_result",
          "data": {
            "text/plain": [
              "True"
            ]
          },
          "metadata": {},
          "execution_count": 14
        }
      ]
    },
    {
      "cell_type": "code",
      "execution_count": 17,
      "id": "054b2118-f3d9-400b-b087-78e881e68d9b",
      "metadata": {
        "colab": {
          "base_uri": "https://localhost:8080/",
          "height": 977
        },
        "id": "054b2118-f3d9-400b-b087-78e881e68d9b",
        "outputId": "47484603-4a38-4ae5-bd68-49e99a95d30c"
      },
      "outputs": [
        {
          "output_type": "display_data",
          "data": {
            "text/plain": [
              "<IPython.core.display.HTML object>"
            ],
            "text/html": [
              "Finishing last run (ID:6ube27o4) before initializing another..."
            ]
          },
          "metadata": {}
        },
        {
          "output_type": "display_data",
          "data": {
            "text/plain": [
              "<IPython.core.display.HTML object>"
            ],
            "text/html": [
              "Waiting for W&B process to finish... <strong style=\"color:green\">(success).</strong>"
            ]
          },
          "metadata": {}
        },
        {
          "output_type": "display_data",
          "data": {
            "text/plain": [
              "<IPython.core.display.HTML object>"
            ],
            "text/html": [
              " View run <strong style=\"color:#cdcd00\">brisk-silence-5</strong> at: <a href='https://wandb.ai/ac215-ccb/crycrybaby/runs/6ube27o4' target=\"_blank\">https://wandb.ai/ac215-ccb/crycrybaby/runs/6ube27o4</a><br/>Synced 4 W&B file(s), 0 media file(s), 0 artifact file(s) and 0 other file(s)"
            ]
          },
          "metadata": {}
        },
        {
          "output_type": "display_data",
          "data": {
            "text/plain": [
              "<IPython.core.display.HTML object>"
            ],
            "text/html": [
              "Find logs at: <code>./wandb/run-20231007_223504-6ube27o4/logs</code>"
            ]
          },
          "metadata": {}
        },
        {
          "output_type": "display_data",
          "data": {
            "text/plain": [
              "<IPython.core.display.HTML object>"
            ],
            "text/html": [
              "Successfully finished last run (ID:6ube27o4). Initializing new run:<br/>"
            ]
          },
          "metadata": {}
        },
        {
          "output_type": "display_data",
          "data": {
            "text/plain": [
              "<IPython.core.display.HTML object>"
            ],
            "text/html": [
              "Tracking run with wandb version 0.15.12"
            ]
          },
          "metadata": {}
        },
        {
          "output_type": "display_data",
          "data": {
            "text/plain": [
              "<IPython.core.display.HTML object>"
            ],
            "text/html": [
              "Run data is saved locally in <code>/content/wandb/run-20231007_223533-g8oktw5p</code>"
            ]
          },
          "metadata": {}
        },
        {
          "output_type": "display_data",
          "data": {
            "text/plain": [
              "<IPython.core.display.HTML object>"
            ],
            "text/html": [
              "Syncing run <strong><a href='https://wandb.ai/ac215-ccb/crycrybaby/runs/g8oktw5p' target=\"_blank\">misunderstood-deluge-6</a></strong> to <a href='https://wandb.ai/ac215-ccb/crycrybaby' target=\"_blank\">Weights & Biases</a> (<a href='https://wandb.me/run' target=\"_blank\">docs</a>)<br/>"
            ]
          },
          "metadata": {}
        },
        {
          "output_type": "display_data",
          "data": {
            "text/plain": [
              "<IPython.core.display.HTML object>"
            ],
            "text/html": [
              " View project at <a href='https://wandb.ai/ac215-ccb/crycrybaby' target=\"_blank\">https://wandb.ai/ac215-ccb/crycrybaby</a>"
            ]
          },
          "metadata": {}
        },
        {
          "output_type": "display_data",
          "data": {
            "text/plain": [
              "<IPython.core.display.HTML object>"
            ],
            "text/html": [
              " View run at <a href='https://wandb.ai/ac215-ccb/crycrybaby/runs/g8oktw5p' target=\"_blank\">https://wandb.ai/ac215-ccb/crycrybaby/runs/g8oktw5p</a>"
            ]
          },
          "metadata": {}
        },
        {
          "output_type": "stream",
          "name": "stderr",
          "text": [
            "\u001b[34m\u001b[1mwandb\u001b[0m: \u001b[33mWARNING\u001b[0m The save_model argument by default saves the model in the HDF5 format that cannot save custom objects like subclassed models and custom layers. This behavior will be deprecated in a future release in favor of the SavedModel format. Meanwhile, the HDF5 model is saved as W&B files and the SavedModel as W&B Artifacts.\n"
          ]
        },
        {
          "output_type": "stream",
          "name": "stdout",
          "text": [
            "Epoch 1/10\n",
            "11/11 [==============================] - ETA: 0s - loss: 1.0959 - accuracy: 0.7652"
          ]
        },
        {
          "output_type": "stream",
          "name": "stderr",
          "text": [
            "/usr/local/lib/python3.10/dist-packages/keras/src/engine/training.py:3000: UserWarning: You are saving your model as an HDF5 file via `model.save()`. This file format is considered legacy. We recommend using instead the native Keras format, e.g. `model.save('my_model.keras')`.\n",
            "  saving_api.save_model(\n",
            "\u001b[34m\u001b[1mwandb\u001b[0m: Adding directory to artifact (/content/wandb/run-20231007_223533-g8oktw5p/files/model-best)... Done. 0.9s\n"
          ]
        },
        {
          "output_type": "stream",
          "name": "stdout",
          "text": [
            "\b\b\b\b\b\b\b\b\b\b\b\b\b\b\b\b\b\b\b\b\b\b\b\b\b\b\b\b\b\b\b\b\b\b\b\b\b\b\b\b\b\b\b\b\b\b\b\b\b\b\b\b\b\b\b\b\b\b\b\b\b\b\b\b\b\b\b\b\b\b\b\b\b\b\b\b\b\b\b\b\b\b\r11/11 [==============================] - 6s 489ms/step - loss: 1.0959 - accuracy: 0.7652 - val_loss: 0.8758 - val_accuracy: 0.7838\n",
            "Epoch 2/10\n",
            "11/11 [==============================] - 10s 844ms/step - loss: 0.4900 - accuracy: 0.8537 - val_loss: 0.9661 - val_accuracy: 0.7838\n",
            "Epoch 3/10\n",
            "11/11 [==============================] - 3s 255ms/step - loss: 0.3077 - accuracy: 0.8933 - val_loss: 0.8845 - val_accuracy: 0.7838\n",
            "Epoch 4/10\n",
            "11/11 [==============================] - 2s 199ms/step - loss: 0.1680 - accuracy: 0.9573 - val_loss: 1.0493 - val_accuracy: 0.7838\n",
            "Epoch 5/10\n",
            "11/11 [==============================] - 3s 240ms/step - loss: 0.0804 - accuracy: 0.9939 - val_loss: 1.1612 - val_accuracy: 0.7838\n",
            "Epoch 6/10\n",
            "11/11 [==============================] - 4s 334ms/step - loss: 0.0369 - accuracy: 1.0000 - val_loss: 1.2447 - val_accuracy: 0.7838\n",
            "Epoch 7/10\n",
            "11/11 [==============================] - 4s 313ms/step - loss: 0.0186 - accuracy: 1.0000 - val_loss: 1.4038 - val_accuracy: 0.7838\n",
            "Epoch 8/10\n",
            "11/11 [==============================] - 2s 211ms/step - loss: 0.0112 - accuracy: 1.0000 - val_loss: 1.4701 - val_accuracy: 0.7838\n",
            "Epoch 9/10\n",
            "11/11 [==============================] - 2s 208ms/step - loss: 0.0077 - accuracy: 1.0000 - val_loss: 1.5905 - val_accuracy: 0.7838\n",
            "Epoch 10/10\n",
            "11/11 [==============================] - 2s 206ms/step - loss: 0.0051 - accuracy: 1.0000 - val_loss: 1.6459 - val_accuracy: 0.7838\n",
            "Training execution time (mins) 0.7013582468032837\n"
          ]
        },
        {
          "output_type": "display_data",
          "data": {
            "text/plain": [
              "<IPython.core.display.HTML object>"
            ],
            "text/html": [
              "Waiting for W&B process to finish... <strong style=\"color:green\">(success).</strong>"
            ]
          },
          "metadata": {}
        },
        {
          "output_type": "display_data",
          "data": {
            "text/plain": [
              "<IPython.core.display.HTML object>"
            ],
            "text/html": [
              "<style>\n",
              "    table.wandb td:nth-child(1) { padding: 0 10px; text-align: left ; width: auto;} td:nth-child(2) {text-align: left ; width: 100%}\n",
              "    .wandb-row { display: flex; flex-direction: row; flex-wrap: wrap; justify-content: flex-start; width: 100% }\n",
              "    .wandb-col { display: flex; flex-direction: column; flex-basis: 100%; flex: 1; padding: 10px; }\n",
              "    </style>\n",
              "<div class=\"wandb-row\"><div class=\"wandb-col\"><h3>Run history:</h3><br/><table class=\"wandb\"><tr><td>accuracy</td><td>▁▄▅▇██████</td></tr><tr><td>epoch</td><td>▁▂▃▃▄▅▆▆▇█</td></tr><tr><td>loss</td><td>█▄▃▂▁▁▁▁▁▁</td></tr><tr><td>val_accuracy</td><td>▁▁▁▁▁▁▁▁▁▁</td></tr><tr><td>val_loss</td><td>▁▂▁▃▄▄▆▆▇█</td></tr></table><br/></div><div class=\"wandb-col\"><h3>Run summary:</h3><br/><table class=\"wandb\"><tr><td>accuracy</td><td>1.0</td></tr><tr><td>best_epoch</td><td>0</td></tr><tr><td>best_val_loss</td><td>0.87581</td></tr><tr><td>epoch</td><td>9</td></tr><tr><td>loss</td><td>0.00506</td></tr><tr><td>val_accuracy</td><td>0.78378</td></tr><tr><td>val_loss</td><td>1.64592</td></tr></table><br/></div></div>"
            ]
          },
          "metadata": {}
        },
        {
          "output_type": "display_data",
          "data": {
            "text/plain": [
              "<IPython.core.display.HTML object>"
            ],
            "text/html": [
              " View run <strong style=\"color:#cdcd00\">misunderstood-deluge-6</strong> at: <a href='https://wandb.ai/ac215-ccb/crycrybaby/runs/g8oktw5p' target=\"_blank\">https://wandb.ai/ac215-ccb/crycrybaby/runs/g8oktw5p</a><br/>Synced 5 W&B file(s), 1 media file(s), 5 artifact file(s) and 1 other file(s)"
            ]
          },
          "metadata": {}
        },
        {
          "output_type": "display_data",
          "data": {
            "text/plain": [
              "<IPython.core.display.HTML object>"
            ],
            "text/html": [
              "Find logs at: <code>./wandb/run-20231007_223533-g8oktw5p/logs</code>"
            ]
          },
          "metadata": {}
        }
      ],
      "source": [
        "# Convert labels to one-hot encoding (assuming you have more than one class)\n",
        "y_train_encoded = tf.keras.utils.to_categorical(y_train, num_classes)\n",
        "y_test_encoded = tf.keras.utils.to_categorical(y_test, num_classes)\n",
        "\n",
        "# Train the model\n",
        "batch_size = 32\n",
        "epochs = 10\n",
        "model_name = 'baseline'\n",
        "\n",
        "# Initialize a W&B run\n",
        "wandb.init(\n",
        "    project = 'crycrybaby',\n",
        "    config = {\n",
        "      \"epochs\": epochs,\n",
        "      \"batch_size\": batch_size,\n",
        "      \"model_name\": model_name\n",
        "    },\n",
        "    )\n",
        "\n",
        "# Train model\n",
        "start_time = time.time()\n",
        "\n",
        "training_results = model.fit(\n",
        "            X_train,\n",
        "            y_train_encoded,\n",
        "            batch_size=batch_size,\n",
        "            epochs=epochs,\n",
        "            validation_split=0.1,\n",
        "            callbacks=[WandbCallback()],)\n",
        "\n",
        "execution_time = (time.time() - start_time)/60.0\n",
        "print(\"Training execution time (mins)\",execution_time)\n",
        "\n",
        "# Update W&B\n",
        "wandb.config.update({\"execution_time\": execution_time})\n",
        "# Close the W&B run\n",
        "wandb.run.finish()\n",
        "\n",
        "# history = model.fit(X_train, y_train_encoded, batch_size=batch_size, epochs=epochs, validation_split=0.1)"
      ]
    },
    {
      "cell_type": "code",
      "source": [
        "# Evaluate the model on the test set\n",
        "y_pred = model.predict(X_test)\n",
        "y_pred_classes = np.argmax(y_pred, axis=1)\n",
        "y_test_classes = np.argmax(y_test_encoded, axis=1)\n",
        "\n",
        "accuracy = accuracy_score(y_test_classes, y_pred_classes)\n",
        "print(f'Test accuracy: {accuracy:.2f}')"
      ],
      "metadata": {
        "colab": {
          "base_uri": "https://localhost:8080/"
        },
        "id": "u5Kw5n0SR7Vb",
        "outputId": "c2ef2c79-30ed-40d4-bfca-78e0ae659c59"
      },
      "id": "u5Kw5n0SR7Vb",
      "execution_count": 18,
      "outputs": [
        {
          "output_type": "stream",
          "name": "stdout",
          "text": [
            "3/3 [==============================] - 0s 47ms/step\n",
            "Test accuracy: 0.84\n"
          ]
        }
      ]
    },
    {
      "cell_type": "code",
      "execution_count": 19,
      "id": "419d4ed0-b7f0-4e11-91ae-859b5985badc",
      "metadata": {
        "colab": {
          "base_uri": "https://localhost:8080/"
        },
        "id": "419d4ed0-b7f0-4e11-91ae-859b5985badc",
        "outputId": "5be640f1-e200-4807-95a3-1f20b883d4f8"
      },
      "outputs": [
        {
          "output_type": "execute_result",
          "data": {
            "text/plain": [
              "92"
            ]
          },
          "metadata": {},
          "execution_count": 19
        }
      ],
      "source": [
        "len(y_pred_classes)"
      ]
    },
    {
      "cell_type": "code",
      "execution_count": 20,
      "id": "ddec0ae1-bfd9-411b-86a8-2a0b795fad8f",
      "metadata": {
        "colab": {
          "base_uri": "https://localhost:8080/"
        },
        "id": "ddec0ae1-bfd9-411b-86a8-2a0b795fad8f",
        "outputId": "e3b4c7ac-dba3-44a2-b4bd-a67d273b9707"
      },
      "outputs": [
        {
          "output_type": "execute_result",
          "data": {
            "text/plain": [
              "array([3, 3, 3, 3, 3, 3, 3, 3, 3, 3, 3, 3, 3, 3, 3, 3, 3, 3, 3, 3, 3, 3,\n",
              "       3, 3, 3, 3, 3, 3, 3, 3, 3, 3, 3, 3, 3, 3, 3, 3, 3, 3, 3, 3, 3, 3,\n",
              "       3, 3, 3, 3, 3, 3, 3, 3, 3, 3, 3, 3, 3, 3, 3, 3, 3, 3, 3, 3, 3, 3,\n",
              "       3, 3, 3, 3, 3, 3, 3, 3, 3, 3, 3, 3, 3, 3, 3, 3, 3, 3, 3, 3, 3, 3,\n",
              "       3, 3, 3, 3])"
            ]
          },
          "metadata": {},
          "execution_count": 20
        }
      ],
      "source": [
        "y_pred_classes"
      ]
    },
    {
      "cell_type": "code",
      "execution_count": 21,
      "id": "3302c8da-9fec-48ac-b491-f477eecbdef0",
      "metadata": {
        "colab": {
          "base_uri": "https://localhost:8080/"
        },
        "id": "3302c8da-9fec-48ac-b491-f477eecbdef0",
        "outputId": "a08f87ff-804d-41f6-d01e-69150d0e5411"
      },
      "outputs": [
        {
          "output_type": "execute_result",
          "data": {
            "text/plain": [
              "array([3, 3, 3, 3, 3, 3, 3, 3, 3, 3, 3, 3, 3, 3, 3, 3, 3, 3, 3, 3, 3, 3,\n",
              "       3, 3, 3, 3, 3, 3, 3, 3, 3, 3, 3, 3, 3, 3, 3, 3, 3, 3, 3, 3, 3, 3,\n",
              "       3, 3, 3, 3, 3, 3, 3, 3, 3, 3, 3, 3, 3, 3, 3, 3, 3, 3, 3, 3, 3, 3,\n",
              "       3, 3, 3, 3, 3, 3, 3, 3, 3, 3, 3, 3, 3, 3, 3, 3, 3, 3, 3, 3, 3, 3,\n",
              "       3, 3, 3, 3])"
            ]
          },
          "metadata": {},
          "execution_count": 21
        }
      ],
      "source": [
        "np.full(len(y_pred_classes), 3)"
      ]
    },
    {
      "cell_type": "code",
      "execution_count": 22,
      "id": "1a8225d0-6ecc-411e-a423-27a312b11c47",
      "metadata": {
        "id": "1a8225d0-6ecc-411e-a423-27a312b11c47"
      },
      "outputs": [],
      "source": [
        "hungry_test = np.full(len(y_pred_classes), 3)"
      ]
    },
    {
      "cell_type": "code",
      "execution_count": 23,
      "id": "f7e96997-937f-496d-915d-73a2aa2167d3",
      "metadata": {
        "colab": {
          "base_uri": "https://localhost:8080/"
        },
        "id": "f7e96997-937f-496d-915d-73a2aa2167d3",
        "outputId": "79f499f3-8bbd-4b84-ad13-cea3b3b8af8b"
      },
      "outputs": [
        {
          "output_type": "execute_result",
          "data": {
            "text/plain": [
              "0.8369565217391305"
            ]
          },
          "metadata": {},
          "execution_count": 23
        }
      ],
      "source": [
        "accuracy_score(y_test_classes, hungry_test)"
      ]
    },
    {
      "cell_type": "code",
      "execution_count": 24,
      "id": "65f9f269-e6aa-4859-8a85-87c0be1bee9b",
      "metadata": {
        "id": "65f9f269-e6aa-4859-8a85-87c0be1bee9b"
      },
      "outputs": [],
      "source": [
        "\n",
        "## let's try another model\n",
        "\n",
        "num_classes = len(np.unique(y_train))\n",
        "\n",
        "\n",
        "vggish_model = models.Sequential([\n",
        "    layers.Input(shape=(128, 64)),  # Adjust the input shape based on your spectrogram size\n",
        "    layers.Reshape(target_shape=(128, 64, 1)),  # Add a channel dimension\n",
        "    layers.Conv2D(64, (3, 3), activation='relu', padding='same'),\n",
        "    layers.Conv2D(64, (3, 3), activation='relu', padding='same'),\n",
        "    layers.MaxPooling2D((2, 2), strides=(2, 2)),\n",
        "    layers.Conv2D(128, (3, 3), activation='relu', padding='same'),\n",
        "    layers.Conv2D(128, (3, 3), activation='relu', padding='same'),\n",
        "    layers.MaxPooling2D((2, 2), strides=(2, 2)),\n",
        "    layers.Conv2D(256, (3, 3), activation='relu', padding='same'),\n",
        "    layers.Conv2D(256, (3, 3), activation='relu', padding='same'),\n",
        "    layers.Conv2D(256, (3, 3), activation='relu', padding='same'),\n",
        "    layers.MaxPooling2D((2, 2), strides=(2, 2)),\n",
        "    layers.Flatten(),\n",
        "    layers.Dense(4096, activation='relu'),\n",
        "    layers.Dense(4096, activation='relu'),\n",
        "    layers.Dense(num_classes, activation='softmax')\n",
        "])\n",
        "\n",
        "# Compile the model\n",
        "vggish_model.compile(optimizer='adam',\n",
        "              loss='categorical_crossentropy',\n",
        "              metrics=['accuracy'])\n"
      ]
    },
    {
      "cell_type": "code",
      "source": [
        "# Convert labels to one-hot encoding (assuming you have more than one class)\n",
        "y_train_encoded = tf.keras.utils.to_categorical(y_train, num_classes)\n",
        "y_test_encoded = tf.keras.utils.to_categorical(y_test, num_classes)\n",
        "\n",
        "# Train the model\n",
        "batch_size = 32\n",
        "epochs = 10\n",
        "model_name = 'vgg-ish'\n",
        "\n",
        "# Initialize a W&B run\n",
        "wandb.init(\n",
        "    project = 'crycrybaby',\n",
        "    config = {\n",
        "      \"epochs\": epochs,\n",
        "      \"batch_size\": batch_size,\n",
        "      \"model_name\": model_name\n",
        "    },\n",
        "    )\n",
        "\n",
        "# Train model\n",
        "start_time = time.time()\n",
        "\n",
        "training_results = vggish_model.fit(\n",
        "            X_train,\n",
        "            y_train_encoded,\n",
        "            batch_size=batch_size,\n",
        "            epochs=epochs,\n",
        "            validation_split=0.1,\n",
        "            callbacks=[WandbCallback()],)\n",
        "\n",
        "execution_time = (time.time() - start_time)/60.0\n",
        "print(\"Training execution time (mins)\",execution_time)\n",
        "\n",
        "# Update W&B\n",
        "wandb.config.update({\"execution_time\": execution_time})\n",
        "# Close the W&B run\n",
        "wandb.run.finish()\n",
        "\n",
        "# history = model.fit(X_train, y_train_encoded, batch_size=batch_size, epochs=epochs, validation_split=0.1)"
      ],
      "metadata": {
        "colab": {
          "base_uri": "https://localhost:8080/",
          "height": 1000
        },
        "id": "IHiKJ-HmUG-_",
        "outputId": "6a312844-da3c-45b3-ad38-8c00424651bc"
      },
      "id": "IHiKJ-HmUG-_",
      "execution_count": 25,
      "outputs": [
        {
          "output_type": "display_data",
          "data": {
            "text/plain": [
              "<IPython.core.display.HTML object>"
            ],
            "text/html": [
              "Tracking run with wandb version 0.15.12"
            ]
          },
          "metadata": {}
        },
        {
          "output_type": "display_data",
          "data": {
            "text/plain": [
              "<IPython.core.display.HTML object>"
            ],
            "text/html": [
              "Run data is saved locally in <code>/content/wandb/run-20231007_224504-lo3v9h6y</code>"
            ]
          },
          "metadata": {}
        },
        {
          "output_type": "display_data",
          "data": {
            "text/plain": [
              "<IPython.core.display.HTML object>"
            ],
            "text/html": [
              "Syncing run <strong><a href='https://wandb.ai/ac215-ccb/crycrybaby/runs/lo3v9h6y' target=\"_blank\">devout-energy-7</a></strong> to <a href='https://wandb.ai/ac215-ccb/crycrybaby' target=\"_blank\">Weights & Biases</a> (<a href='https://wandb.me/run' target=\"_blank\">docs</a>)<br/>"
            ]
          },
          "metadata": {}
        },
        {
          "output_type": "display_data",
          "data": {
            "text/plain": [
              "<IPython.core.display.HTML object>"
            ],
            "text/html": [
              " View project at <a href='https://wandb.ai/ac215-ccb/crycrybaby' target=\"_blank\">https://wandb.ai/ac215-ccb/crycrybaby</a>"
            ]
          },
          "metadata": {}
        },
        {
          "output_type": "display_data",
          "data": {
            "text/plain": [
              "<IPython.core.display.HTML object>"
            ],
            "text/html": [
              " View run at <a href='https://wandb.ai/ac215-ccb/crycrybaby/runs/lo3v9h6y' target=\"_blank\">https://wandb.ai/ac215-ccb/crycrybaby/runs/lo3v9h6y</a>"
            ]
          },
          "metadata": {}
        },
        {
          "output_type": "stream",
          "name": "stdout",
          "text": [
            "Epoch 1/10\n",
            "11/11 [==============================] - ETA: 0s - loss: 1.2551 - accuracy: 0.7652 "
          ]
        },
        {
          "output_type": "stream",
          "name": "stderr",
          "text": [
            "/usr/local/lib/python3.10/dist-packages/keras/src/engine/training.py:3000: UserWarning: You are saving your model as an HDF5 file via `model.save()`. This file format is considered legacy. We recommend using instead the native Keras format, e.g. `model.save('my_model.keras')`.\n",
            "  saving_api.save_model(\n",
            "\u001b[34m\u001b[1mwandb\u001b[0m: Adding directory to artifact (/content/wandb/run-20231007_224504-lo3v9h6y/files/model-best)... Done. 15.2s\n"
          ]
        },
        {
          "output_type": "stream",
          "name": "stdout",
          "text": [
            "\b\b\b\b\b\b\b\b\b\b\b\b\b\b\b\b\b\b\b\b\b\b\b\b\b\b\b\b\b\b\b\b\b\b\b\b\b\b\b\b\b\b\b\b\b\b\b\b\b\b\b\b\b\b\b\b\b\b\b\b\b\b\b\b\b\b\b\b\b\b\b\b\b\b\b\b\b\b\b\b\b\b\r11/11 [==============================] - 171s 16s/step - loss: 1.2551 - accuracy: 0.7652 - val_loss: 0.9195 - val_accuracy: 0.7838\n",
            "Epoch 2/10\n",
            "11/11 [==============================] - ETA: 0s - loss: 0.7410 - accuracy: 0.8415 "
          ]
        },
        {
          "output_type": "stream",
          "name": "stderr",
          "text": [
            "/usr/local/lib/python3.10/dist-packages/keras/src/engine/training.py:3000: UserWarning: You are saving your model as an HDF5 file via `model.save()`. This file format is considered legacy. We recommend using instead the native Keras format, e.g. `model.save('my_model.keras')`.\n",
            "  saving_api.save_model(\n",
            "\u001b[34m\u001b[1mwandb\u001b[0m: Adding directory to artifact (/content/wandb/run-20231007_224504-lo3v9h6y/files/model-best)... Done. 10.8s\n"
          ]
        },
        {
          "output_type": "stream",
          "name": "stdout",
          "text": [
            "\b\b\b\b\b\b\b\b\b\b\b\b\b\b\b\b\b\b\b\b\b\b\b\b\b\b\b\b\b\b\b\b\b\b\b\b\b\b\b\b\b\b\b\b\b\b\b\b\b\b\b\b\b\b\b\b\b\b\b\b\b\b\b\b\b\b\b\b\b\b\b\b\b\b\b\b\b\b\b\b\b\b\r11/11 [==============================] - 150s 14s/step - loss: 0.7410 - accuracy: 0.8415 - val_loss: 0.8516 - val_accuracy: 0.7838\n",
            "Epoch 3/10\n",
            "11/11 [==============================] - 116s 10s/step - loss: 0.6614 - accuracy: 0.8415 - val_loss: 0.8669 - val_accuracy: 0.7838\n",
            "Epoch 4/10\n",
            "11/11 [==============================] - 106s 10s/step - loss: 0.6756 - accuracy: 0.8415 - val_loss: 0.8859 - val_accuracy: 0.7838\n",
            "Epoch 5/10\n",
            "11/11 [==============================] - 111s 10s/step - loss: 0.6647 - accuracy: 0.8415 - val_loss: 0.8772 - val_accuracy: 0.7838\n",
            "Epoch 6/10\n",
            "11/11 [==============================] - ETA: 0s - loss: 0.6851 - accuracy: 0.8415 "
          ]
        },
        {
          "output_type": "stream",
          "name": "stderr",
          "text": [
            "/usr/local/lib/python3.10/dist-packages/keras/src/engine/training.py:3000: UserWarning: You are saving your model as an HDF5 file via `model.save()`. This file format is considered legacy. We recommend using instead the native Keras format, e.g. `model.save('my_model.keras')`.\n",
            "  saving_api.save_model(\n",
            "\u001b[34m\u001b[1mwandb\u001b[0m: Adding directory to artifact (/content/wandb/run-20231007_224504-lo3v9h6y/files/model-best)... Done. 11.3s\n"
          ]
        },
        {
          "output_type": "stream",
          "name": "stdout",
          "text": [
            "\b\b\b\b\b\b\b\b\b\b\b\b\b\b\b\b\b\b\b\b\b\b\b\b\b\b\b\b\b\b\b\b\b\b\b\b\b\b\b\b\b\b\b\b\b\b\b\b\b\b\b\b\b\b\b\b\b\b\b\b\b\b\b\b\b\b\b\b\b\b\b\b\b\b\b\b\b\b\b\b\b\b\r11/11 [==============================] - 150s 13s/step - loss: 0.6851 - accuracy: 0.8415 - val_loss: 0.8379 - val_accuracy: 0.7838\n",
            "Epoch 7/10\n",
            "11/11 [==============================] - ETA: 0s - loss: 0.6661 - accuracy: 0.8415 "
          ]
        },
        {
          "output_type": "stream",
          "name": "stderr",
          "text": [
            "/usr/local/lib/python3.10/dist-packages/keras/src/engine/training.py:3000: UserWarning: You are saving your model as an HDF5 file via `model.save()`. This file format is considered legacy. We recommend using instead the native Keras format, e.g. `model.save('my_model.keras')`.\n",
            "  saving_api.save_model(\n",
            "\u001b[34m\u001b[1mwandb\u001b[0m: Adding directory to artifact (/content/wandb/run-20231007_224504-lo3v9h6y/files/model-best)... Done. 10.6s\n"
          ]
        },
        {
          "output_type": "stream",
          "name": "stdout",
          "text": [
            "\b\b\b\b\b\b\b\b\b\b\b\b\b\b\b\b\b\b\b\b\b\b\b\b\b\b\b\b\b\b\b\b\b\b\b\b\b\b\b\b\b\b\b\b\b\b\b\b\b\b\b\b\b\b\b\b\b\b\b\b\b\b\b\b\b\b\b\b\b\b\b\b\b\b\b\b\b\b\b\b\b\b\r11/11 [==============================] - 162s 15s/step - loss: 0.6661 - accuracy: 0.8415 - val_loss: 0.8117 - val_accuracy: 0.7838\n",
            "Epoch 8/10\n",
            "11/11 [==============================] - 117s 10s/step - loss: 0.6538 - accuracy: 0.8415 - val_loss: 0.8251 - val_accuracy: 0.7838\n",
            "Epoch 9/10\n",
            "11/11 [==============================] - 107s 10s/step - loss: 0.6540 - accuracy: 0.8415 - val_loss: 0.8214 - val_accuracy: 0.7838\n",
            "Epoch 10/10\n",
            "11/11 [==============================] - 120s 11s/step - loss: 0.6628 - accuracy: 0.8415 - val_loss: 0.8347 - val_accuracy: 0.7838\n",
            "Training execution time (mins) 21.853917360305786\n"
          ]
        },
        {
          "output_type": "display_data",
          "data": {
            "text/plain": [
              "<IPython.core.display.HTML object>"
            ],
            "text/html": [
              "Waiting for W&B process to finish... <strong style=\"color:green\">(success).</strong>"
            ]
          },
          "metadata": {}
        },
        {
          "output_type": "display_data",
          "data": {
            "text/plain": [
              "<IPython.core.display.HTML object>"
            ],
            "text/html": [
              "<style>\n",
              "    table.wandb td:nth-child(1) { padding: 0 10px; text-align: left ; width: auto;} td:nth-child(2) {text-align: left ; width: 100%}\n",
              "    .wandb-row { display: flex; flex-direction: row; flex-wrap: wrap; justify-content: flex-start; width: 100% }\n",
              "    .wandb-col { display: flex; flex-direction: column; flex-basis: 100%; flex: 1; padding: 10px; }\n",
              "    </style>\n",
              "<div class=\"wandb-row\"><div class=\"wandb-col\"><h3>Run history:</h3><br/><table class=\"wandb\"><tr><td>accuracy</td><td>▁█████████</td></tr><tr><td>epoch</td><td>▁▂▃▃▄▅▆▆▇█</td></tr><tr><td>loss</td><td>█▂▁▁▁▁▁▁▁▁</td></tr><tr><td>val_accuracy</td><td>▁▁▁▁▁▁▁▁▁▁</td></tr><tr><td>val_loss</td><td>█▄▅▆▅▃▁▂▂▂</td></tr></table><br/></div><div class=\"wandb-col\"><h3>Run summary:</h3><br/><table class=\"wandb\"><tr><td>accuracy</td><td>0.84146</td></tr><tr><td>best_epoch</td><td>6</td></tr><tr><td>best_val_loss</td><td>0.81166</td></tr><tr><td>epoch</td><td>9</td></tr><tr><td>loss</td><td>0.66283</td></tr><tr><td>val_accuracy</td><td>0.78378</td></tr><tr><td>val_loss</td><td>0.83474</td></tr></table><br/></div></div>"
            ]
          },
          "metadata": {}
        },
        {
          "output_type": "display_data",
          "data": {
            "text/plain": [
              "<IPython.core.display.HTML object>"
            ],
            "text/html": [
              " View run <strong style=\"color:#cdcd00\">devout-energy-7</strong> at: <a href='https://wandb.ai/ac215-ccb/crycrybaby/runs/lo3v9h6y' target=\"_blank\">https://wandb.ai/ac215-ccb/crycrybaby/runs/lo3v9h6y</a><br/>Synced 5 W&B file(s), 1 media file(s), 20 artifact file(s) and 1 other file(s)"
            ]
          },
          "metadata": {}
        },
        {
          "output_type": "display_data",
          "data": {
            "text/plain": [
              "<IPython.core.display.HTML object>"
            ],
            "text/html": [
              "Find logs at: <code>./wandb/run-20231007_224504-lo3v9h6y/logs</code>"
            ]
          },
          "metadata": {}
        }
      ]
    },
    {
      "cell_type": "code",
      "source": [
        "# Evaluate the model on the test set\n",
        "y_pred = vggish_model.predict(X_test)\n",
        "y_pred_classes = np.argmax(y_pred, axis=1)\n",
        "y_test_classes = np.argmax(y_test_encoded, axis=1)\n",
        "\n",
        "accuracy = accuracy_score(y_test_classes, y_pred_classes)\n",
        "print(f'Test accuracy: {accuracy:.2f}')"
      ],
      "metadata": {
        "colab": {
          "base_uri": "https://localhost:8080/"
        },
        "id": "STo-yA2mUM1r",
        "outputId": "d0387713-703f-4752-b8d7-73bbbc274ab0"
      },
      "id": "STo-yA2mUM1r",
      "execution_count": 26,
      "outputs": [
        {
          "output_type": "stream",
          "name": "stdout",
          "text": [
            "3/3 [==============================] - 12s 3s/step\n",
            "Test accuracy: 0.84\n"
          ]
        }
      ]
    },
    {
      "cell_type": "code",
      "source": [],
      "metadata": {
        "id": "DiFkGncbZ_GD"
      },
      "id": "DiFkGncbZ_GD",
      "execution_count": null,
      "outputs": []
    }
  ],
  "metadata": {
    "kernelspec": {
      "display_name": "Python 3 (ipykernel)",
      "language": "python",
      "name": "python3"
    },
    "language_info": {
      "codemirror_mode": {
        "name": "ipython",
        "version": 3
      },
      "file_extension": ".py",
      "mimetype": "text/x-python",
      "name": "python",
      "nbconvert_exporter": "python",
      "pygments_lexer": "ipython3",
      "version": "3.9.12"
    },
    "colab": {
      "provenance": []
    }
  },
  "nbformat": 4,
  "nbformat_minor": 5
}