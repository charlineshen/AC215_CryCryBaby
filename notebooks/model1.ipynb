{
  "cells": [
    {
      "cell_type": "code",
      "source": [
        "!pip install -q tensorflow_model_optimization"
      ],
      "metadata": {
        "id": "xIzWtpWrDg98",
        "colab": {
          "base_uri": "https://localhost:8080/"
        },
        "outputId": "5c3def14-9456-4cf1-8eba-1d6153b15a79"
      },
      "id": "xIzWtpWrDg98",
      "execution_count": 1,
      "outputs": [
        {
          "output_type": "stream",
          "name": "stdout",
          "text": [
            "\u001b[?25l     \u001b[90m━━━━━━━━━━━━━━━━━━━━━━━━━━━━━━━━━━━━━━━━\u001b[0m \u001b[32m0.0/241.2 kB\u001b[0m \u001b[31m?\u001b[0m eta \u001b[36m-:--:--\u001b[0m\r\u001b[2K     \u001b[91m━━━━━\u001b[0m\u001b[90m╺\u001b[0m\u001b[90m━━━━━━━━━━━━━━━━━━━━━━━━━━━━━━━━━━\u001b[0m \u001b[32m30.7/241.2 kB\u001b[0m \u001b[31m880.5 kB/s\u001b[0m eta \u001b[36m0:00:01\u001b[0m\r\u001b[2K     \u001b[91m━━━━━━━━━━━━━━━━━━━━━━━━━━━━\u001b[0m\u001b[91m╸\u001b[0m\u001b[90m━━━━━━━━━━━\u001b[0m \u001b[32m174.1/241.2 kB\u001b[0m \u001b[31m2.5 MB/s\u001b[0m eta \u001b[36m0:00:01\u001b[0m\r\u001b[2K     \u001b[90m━━━━━━━━━━━━━━━━━━━━━━━━━━━━━━━━━━━━━━━━\u001b[0m \u001b[32m241.2/241.2 kB\u001b[0m \u001b[31m2.2 MB/s\u001b[0m eta \u001b[36m0:00:00\u001b[0m\n",
            "\u001b[?25h"
          ]
        }
      ]
    },
    {
      "cell_type": "code",
      "execution_count": 2,
      "id": "280b6c3e-6a39-4680-8cbb-94a6b0a91795",
      "metadata": {
        "id": "280b6c3e-6a39-4680-8cbb-94a6b0a91795"
      },
      "outputs": [],
      "source": [
        "import matplotlib.pyplot as plt\n",
        "import numpy as np\n",
        "import pandas as pd\n",
        "\n",
        "import os\n",
        "\n",
        "from sklearn.model_selection import train_test_split\n",
        "from sklearn.metrics import accuracy_score\n",
        "\n",
        "import librosa\n",
        "import librosa.display\n",
        "\n",
        "from tensorflow.keras import layers, models\n",
        "import tensorflow as tf\n",
        "\n",
        "import tempfile\n",
        "import zipfile\n",
        "import time\n",
        "\n",
        "from tensorflow import keras\n",
        "from tensorflow.keras.models import Model, Sequential\n",
        "from tensorflow.keras.utils import to_categorical\n",
        "from tensorflow.python.keras import backend as K\n",
        "from tensorflow.python.keras.utils.layer_utils import count_params\n",
        "# TF Optimization\n",
        "import tensorflow_model_optimization as tfmot\n",
        "from tensorflow_model_optimization.sparsity.keras import prune_low_magnitude"
      ]
    },
    {
      "cell_type": "code",
      "source": [
        "import warnings\n",
        "warnings.filterwarnings('ignore')"
      ],
      "metadata": {
        "id": "ZMyoAomZZdEA"
      },
      "id": "ZMyoAomZZdEA",
      "execution_count": 3,
      "outputs": []
    },
    {
      "cell_type": "code",
      "source": [
        "from google.colab import drive\n",
        "drive.mount('/content/drive', force_remount=True)\n",
        "folder_path = \"/content/drive/My Drive/donateacry_corpus_cleaned_and_updated_data/\"\n",
        "folder_crycelab2023 = \"/content/drive/My Drive/CryCeLab2023/\"\n",
        "folder_ESC50 = \"/content/drive/My Drive/ESC-50/\""
      ],
      "metadata": {
        "colab": {
          "base_uri": "https://localhost:8080/"
        },
        "id": "gGCc8G94ipiZ",
        "outputId": "3b8e635d-3046-496a-8026-9b9b9da1c118"
      },
      "id": "gGCc8G94ipiZ",
      "execution_count": 4,
      "outputs": [
        {
          "output_type": "stream",
          "name": "stdout",
          "text": [
            "Mounted at /content/drive\n"
          ]
        }
      ]
    },
    {
      "cell_type": "code",
      "source": [
        "def wav_to_spectrogram(file_path, output_shape=(128, 64)):\n",
        "    # Load the WAV file\n",
        "    y, sr = librosa.load(file_path, sr=8000, dtype=np.float32)\n",
        "    # print(sr)\n",
        "\n",
        "    # Generate the spectrogram\n",
        "    spectrogram = librosa.feature.melspectrogram(y=y, sr=sr)\n",
        "    tmp = spectrogram.shape\n",
        "    # Resize the spectrogram so that it can be fed into the model\n",
        "    spectrogram = librosa.util.fix_length(spectrogram, size=output_shape[1], mode='constant', constant_values=0)\n",
        "\n",
        "    # Normalize the spectrogram to values between 0 and 1, this really helps improve model accuracy\n",
        "    spectrogram = librosa.util.normalize(spectrogram)\n",
        "\n",
        "    return spectrogram, sr, y, tmp\n",
        "\n",
        "\n"
      ],
      "metadata": {
        "id": "5V8TwiYhuCb-"
      },
      "id": "5V8TwiYhuCb-",
      "execution_count": 5,
      "outputs": []
    },
    {
      "cell_type": "markdown",
      "source": [
        "# **457 Cleaned data**"
      ],
      "metadata": {
        "id": "P-LGtq8Ns5Kg"
      },
      "id": "P-LGtq8Ns5Kg"
    },
    {
      "cell_type": "code",
      "execution_count": 6,
      "id": "d207b8b2-7bb5-4d27-987b-bef4631b61ef",
      "metadata": {
        "id": "d207b8b2-7bb5-4d27-987b-bef4631b61ef",
        "outputId": "46b8b8b7-d63e-4fd6-9a30-12fc28e5444e",
        "colab": {
          "base_uri": "https://localhost:8080/"
        }
      },
      "outputs": [
        {
          "output_type": "stream",
          "name": "stdout",
          "text": [
            "X shape: (457, 128, 64)\n",
            "y shape: (457,)\n"
          ]
        }
      ],
      "source": [
        "shape = []\n",
        "# Define the folder containing the subfolders with WAV files\n",
        "data_folder = folder_path\n",
        "# Define the labels (subfolder names)\n",
        "labels = ['belly_pain', 'burping', 'discomfort', 'hungry', 'tired']\n",
        "\n",
        "# Initialize empty lists to store spectrograms and labels\n",
        "X0 = []\n",
        "y0_model1 = []\n",
        "y0_model2 = []\n",
        "\n",
        "# Iterate through the labels\n",
        "for label_idx, label in enumerate(labels):\n",
        "    label_folder = os.path.join(data_folder, label)\n",
        "\n",
        "    # Iterate through WAV files in the label folder\n",
        "    for wav_file in os.listdir(label_folder):\n",
        "        if wav_file.endswith('.wav'):\n",
        "            wav_file_path = os.path.join(label_folder, wav_file)\n",
        "\n",
        "            # Convert WAV to spectrogram using the wav_to_spectrogram function\n",
        "            spectrogram, sr, au, tmp = wav_to_spectrogram(wav_file_path)\n",
        "\n",
        "            shape.append(tmp[1])\n",
        "            # Append the spectrogram to X_train\n",
        "            X0.append(spectrogram)\n",
        "\n",
        "            # Append the label index (numeric representation of the label) to y_train\n",
        "            y0_model1.append(1)\n",
        "            y0_model2.append(label_idx)\n",
        "\n",
        "# Convert lists to NumPy arrays for further processing\n",
        "X = np.array(X0)\n",
        "y0_model1 = np.array(y0_model1)\n",
        "y0_model2 = np.array(y0_model2)\n",
        "\n",
        "# Check the shapes\n",
        "print(f'X shape: {X.shape}')\n",
        "print(f'y shape: {y0_model1.shape}')"
      ]
    },
    {
      "cell_type": "code",
      "source": [
        "# min(shape),shape"
      ],
      "metadata": {
        "id": "wiV5vgvxo-jf"
      },
      "id": "wiV5vgvxo-jf",
      "execution_count": null,
      "outputs": []
    },
    {
      "cell_type": "markdown",
      "source": [
        "# **~1000 all baby cry data**"
      ],
      "metadata": {
        "id": "JXkODvQ-s9t_"
      },
      "id": "JXkODvQ-s9t_"
    },
    {
      "cell_type": "code",
      "source": [
        "data_folder1 = folder_path + 'All Data'\n",
        "label_old = {'hu': 0, 'bu': 0, 'bp': 0, 'dc': 0, 'ti': 0, 'lo': 0, 'ch': 0, 'sc': 0, 'dk': 0}\n",
        "\n",
        "# Initialize empty lists to store spectrograms and labels\n",
        "X1 = []\n",
        "y1_model1, y1_model2 = [], []\n",
        "for wav_file in os.listdir(data_folder1):\n",
        "        if wav_file.endswith('.3gp') or wav_file.endswith('.caf'):\n",
        "            wav_file_path = os.path.join(data_folder1, wav_file)\n",
        "            # lb = wav_file_path[]\n",
        "            if wav_file[-6:-4] not in label_old.keys(): continue\n",
        "            label_old[wav_file[-6:-4]] += 1\n",
        "            # Convert WAV to spectrogram using the wav_to_spectrogram function\n",
        "            spectrogram, sr, au, tmp = wav_to_spectrogram(wav_file_path)\n",
        "\n",
        "            # Append the spectrogram to X_train\n",
        "            X1.append(spectrogram)\n",
        "\n",
        "            # Append the label index (numeric representation of the label) to y_train\n",
        "            y1_model1.append(1)\n",
        "\n",
        "            label_idx = 0\n",
        "            if wav_file[-6:-4] == 'bp': label_idx = 0\n",
        "            elif wav_file[-6:-4] == \"bu\": label_idx = 1\n",
        "            elif wav_file[-6:-4] == \"dc\": label_idx = 2\n",
        "            elif wav_file[-6:-4] == \"hu\": label_idx = 3\n",
        "            elif wav_file[-6:-4] == \"ti\": label_idx = 4\n",
        "\n",
        "            y1_model2.append(label_idx)\n",
        "\n",
        "# Convert lists to NumPy arrays for further processing\n",
        "X1 = np.array(X1)\n",
        "y1_model1 = np.array(y1_model1)\n",
        "y1_model2 = np.array(y1_model2)\n",
        "# Check the shapes\n",
        "print(f'X shape: {X1.shape}')\n",
        "print(f'y shape: {y1_model2.shape}')"
      ],
      "metadata": {
        "id": "EM0FpLuhs4p6",
        "colab": {
          "base_uri": "https://localhost:8080/"
        },
        "outputId": "65800b62-145f-4b70-e295-f422f1969bb0"
      },
      "id": "EM0FpLuhs4p6",
      "execution_count": 7,
      "outputs": [
        {
          "output_type": "stream",
          "name": "stdout",
          "text": [
            "X shape: (1126, 128, 64)\n",
            "y shape: (1126,)\n"
          ]
        }
      ]
    },
    {
      "cell_type": "code",
      "source": [
        "#check duplicates\n",
        "\n",
        "old_files = os.listdir(data_folder1)\n",
        "\n",
        "clean_files = []\n",
        "for label_idx, label in enumerate(labels):\n",
        "    label_folder = os.path.join(data_folder, label)\n",
        "    # Iterate through WAV files in the label folder\n",
        "    clean_files.extend(os.listdir(label_folder))\n",
        "\n",
        "\n",
        "set(old_files)&set(clean_files)\n",
        "'7b23d26e-6f97-4e8b-b520-a9fdde21ee91-1432275312750-1.7-m-48-hu.wav' in old_files"
      ],
      "metadata": {
        "colab": {
          "base_uri": "https://localhost:8080/"
        },
        "id": "y6kdwG34Y9ax",
        "outputId": "ead36285-ba55-48d2-c0a6-9a144a065376"
      },
      "id": "y6kdwG34Y9ax",
      "execution_count": 8,
      "outputs": [
        {
          "output_type": "execute_result",
          "data": {
            "text/plain": [
              "False"
            ]
          },
          "metadata": {},
          "execution_count": 8
        }
      ]
    },
    {
      "cell_type": "code",
      "source": [],
      "metadata": {
        "id": "DOA705KLcPYL"
      },
      "id": "DOA705KLcPYL",
      "execution_count": null,
      "outputs": []
    },
    {
      "cell_type": "markdown",
      "source": [
        "# **~20k cryceleb2023**"
      ],
      "metadata": {
        "id": "yp_9o1JrwJA1"
      },
      "id": "yp_9o1JrwJA1"
    },
    {
      "cell_type": "code",
      "source": [
        "data_folder2 = folder_crycelab2023 + 'audio/dev/'\n",
        "limit = 2000\n",
        "# Initialize empty lists to store spectrograms and labels\n",
        "X2 = []\n",
        "y2_model1 = []\n",
        "count = 0\n",
        "for subfolder in os.listdir(data_folder2):\n",
        "  if os.path.isdir(os.path.join(data_folder2,subfolder)):\n",
        "    for subsubfolder in os.listdir(os.path.join(data_folder2,subfolder)):\n",
        "      if os.path.isdir(os.path.join(data_folder2,subfolder, subsubfolder)):\n",
        "        for wav_file in os.listdir(os.path.join(data_folder2,subfolder,subsubfolder)):\n",
        "          if wav_file.endswith('.wav'):\n",
        "              wav_file_path = os.path.join(data_folder2,subfolder,subsubfolder, wav_file)\n",
        "              # Convert WAV to spectrogram using the wav_to_spectrogram function\n",
        "              spectrogram, sr, au, tmp = wav_to_spectrogram(wav_file_path)\n",
        "              shape.append(tmp[1])\n",
        "              # Append the spectrogram to X_train\n",
        "              X2.append(spectrogram)\n",
        "\n",
        "              # Append the label index (numeric representation of the label) to y_train\n",
        "              y2_model1.append(1)\n",
        "              count += 1\n",
        "          if count == limit:\n",
        "            break\n",
        "      if count == limit:\n",
        "        break\n",
        "  if count == limit:\n",
        "    break\n",
        "\n",
        "# Convert lists to NumPy arrays for further processing\n",
        "X2 = np.array(X2)\n",
        "y2_model1 = np.array(y2_model1)\n",
        "\n",
        "# Check the shapes\n",
        "print(f'X shape: {X2.shape}')\n",
        "print(f'y shape: {y2_model1.shape}')"
      ],
      "metadata": {
        "id": "qWwC_MNywIMg",
        "colab": {
          "base_uri": "https://localhost:8080/"
        },
        "outputId": "adda2a46-734a-4134-8dc2-0a1384afc3cf"
      },
      "id": "qWwC_MNywIMg",
      "execution_count": 9,
      "outputs": [
        {
          "output_type": "stream",
          "name": "stdout",
          "text": [
            "X shape: (1614, 128, 64)\n",
            "y shape: (1614,)\n"
          ]
        }
      ]
    },
    {
      "cell_type": "code",
      "source": [
        "X2.shape"
      ],
      "metadata": {
        "colab": {
          "base_uri": "https://localhost:8080/"
        },
        "id": "vK6H_6AW3pc4",
        "outputId": "8f314255-33e8-40d4-b3f7-b7895e56d392"
      },
      "id": "vK6H_6AW3pc4",
      "execution_count": null,
      "outputs": [
        {
          "output_type": "execute_result",
          "data": {
            "text/plain": [
              "(1614, 128, 64)"
            ]
          },
          "metadata": {},
          "execution_count": 8
        }
      ]
    },
    {
      "cell_type": "code",
      "source": [
        "label_esc50 = pd.read_csv(folder_ESC50 + 'ESC-50-master/meta/esc50.csv')\n",
        "label_esc50"
      ],
      "metadata": {
        "colab": {
          "base_uri": "https://localhost:8080/",
          "height": 423
        },
        "id": "1bw1hLyrt7LI",
        "outputId": "7cd99073-4e5a-4f2d-a3e1-aabfb653f0f7"
      },
      "id": "1bw1hLyrt7LI",
      "execution_count": 10,
      "outputs": [
        {
          "output_type": "execute_result",
          "data": {
            "text/plain": [
              "               filename  fold  target        category  esc10  src_file take\n",
              "0      1-100032-A-0.wav     1       0             dog   True    100032    A\n",
              "1     1-100038-A-14.wav     1      14  chirping_birds  False    100038    A\n",
              "2     1-100210-A-36.wav     1      36  vacuum_cleaner  False    100210    A\n",
              "3     1-100210-B-36.wav     1      36  vacuum_cleaner  False    100210    B\n",
              "4     1-101296-A-19.wav     1      19    thunderstorm  False    101296    A\n",
              "...                 ...   ...     ...             ...    ...       ...  ...\n",
              "1995   5-263831-B-6.wav     5       6             hen  False    263831    B\n",
              "1996  5-263902-A-36.wav     5      36  vacuum_cleaner  False    263902    A\n",
              "1997   5-51149-A-25.wav     5      25       footsteps  False     51149    A\n",
              "1998    5-61635-A-8.wav     5       8           sheep  False     61635    A\n",
              "1999     5-9032-A-0.wav     5       0             dog   True      9032    A\n",
              "\n",
              "[2000 rows x 7 columns]"
            ],
            "text/html": [
              "\n",
              "  <div id=\"df-66d6c955-5c44-4966-8904-27ec591a092f\" class=\"colab-df-container\">\n",
              "    <div>\n",
              "<style scoped>\n",
              "    .dataframe tbody tr th:only-of-type {\n",
              "        vertical-align: middle;\n",
              "    }\n",
              "\n",
              "    .dataframe tbody tr th {\n",
              "        vertical-align: top;\n",
              "    }\n",
              "\n",
              "    .dataframe thead th {\n",
              "        text-align: right;\n",
              "    }\n",
              "</style>\n",
              "<table border=\"1\" class=\"dataframe\">\n",
              "  <thead>\n",
              "    <tr style=\"text-align: right;\">\n",
              "      <th></th>\n",
              "      <th>filename</th>\n",
              "      <th>fold</th>\n",
              "      <th>target</th>\n",
              "      <th>category</th>\n",
              "      <th>esc10</th>\n",
              "      <th>src_file</th>\n",
              "      <th>take</th>\n",
              "    </tr>\n",
              "  </thead>\n",
              "  <tbody>\n",
              "    <tr>\n",
              "      <th>0</th>\n",
              "      <td>1-100032-A-0.wav</td>\n",
              "      <td>1</td>\n",
              "      <td>0</td>\n",
              "      <td>dog</td>\n",
              "      <td>True</td>\n",
              "      <td>100032</td>\n",
              "      <td>A</td>\n",
              "    </tr>\n",
              "    <tr>\n",
              "      <th>1</th>\n",
              "      <td>1-100038-A-14.wav</td>\n",
              "      <td>1</td>\n",
              "      <td>14</td>\n",
              "      <td>chirping_birds</td>\n",
              "      <td>False</td>\n",
              "      <td>100038</td>\n",
              "      <td>A</td>\n",
              "    </tr>\n",
              "    <tr>\n",
              "      <th>2</th>\n",
              "      <td>1-100210-A-36.wav</td>\n",
              "      <td>1</td>\n",
              "      <td>36</td>\n",
              "      <td>vacuum_cleaner</td>\n",
              "      <td>False</td>\n",
              "      <td>100210</td>\n",
              "      <td>A</td>\n",
              "    </tr>\n",
              "    <tr>\n",
              "      <th>3</th>\n",
              "      <td>1-100210-B-36.wav</td>\n",
              "      <td>1</td>\n",
              "      <td>36</td>\n",
              "      <td>vacuum_cleaner</td>\n",
              "      <td>False</td>\n",
              "      <td>100210</td>\n",
              "      <td>B</td>\n",
              "    </tr>\n",
              "    <tr>\n",
              "      <th>4</th>\n",
              "      <td>1-101296-A-19.wav</td>\n",
              "      <td>1</td>\n",
              "      <td>19</td>\n",
              "      <td>thunderstorm</td>\n",
              "      <td>False</td>\n",
              "      <td>101296</td>\n",
              "      <td>A</td>\n",
              "    </tr>\n",
              "    <tr>\n",
              "      <th>...</th>\n",
              "      <td>...</td>\n",
              "      <td>...</td>\n",
              "      <td>...</td>\n",
              "      <td>...</td>\n",
              "      <td>...</td>\n",
              "      <td>...</td>\n",
              "      <td>...</td>\n",
              "    </tr>\n",
              "    <tr>\n",
              "      <th>1995</th>\n",
              "      <td>5-263831-B-6.wav</td>\n",
              "      <td>5</td>\n",
              "      <td>6</td>\n",
              "      <td>hen</td>\n",
              "      <td>False</td>\n",
              "      <td>263831</td>\n",
              "      <td>B</td>\n",
              "    </tr>\n",
              "    <tr>\n",
              "      <th>1996</th>\n",
              "      <td>5-263902-A-36.wav</td>\n",
              "      <td>5</td>\n",
              "      <td>36</td>\n",
              "      <td>vacuum_cleaner</td>\n",
              "      <td>False</td>\n",
              "      <td>263902</td>\n",
              "      <td>A</td>\n",
              "    </tr>\n",
              "    <tr>\n",
              "      <th>1997</th>\n",
              "      <td>5-51149-A-25.wav</td>\n",
              "      <td>5</td>\n",
              "      <td>25</td>\n",
              "      <td>footsteps</td>\n",
              "      <td>False</td>\n",
              "      <td>51149</td>\n",
              "      <td>A</td>\n",
              "    </tr>\n",
              "    <tr>\n",
              "      <th>1998</th>\n",
              "      <td>5-61635-A-8.wav</td>\n",
              "      <td>5</td>\n",
              "      <td>8</td>\n",
              "      <td>sheep</td>\n",
              "      <td>False</td>\n",
              "      <td>61635</td>\n",
              "      <td>A</td>\n",
              "    </tr>\n",
              "    <tr>\n",
              "      <th>1999</th>\n",
              "      <td>5-9032-A-0.wav</td>\n",
              "      <td>5</td>\n",
              "      <td>0</td>\n",
              "      <td>dog</td>\n",
              "      <td>True</td>\n",
              "      <td>9032</td>\n",
              "      <td>A</td>\n",
              "    </tr>\n",
              "  </tbody>\n",
              "</table>\n",
              "<p>2000 rows × 7 columns</p>\n",
              "</div>\n",
              "    <div class=\"colab-df-buttons\">\n",
              "\n",
              "  <div class=\"colab-df-container\">\n",
              "    <button class=\"colab-df-convert\" onclick=\"convertToInteractive('df-66d6c955-5c44-4966-8904-27ec591a092f')\"\n",
              "            title=\"Convert this dataframe to an interactive table.\"\n",
              "            style=\"display:none;\">\n",
              "\n",
              "  <svg xmlns=\"http://www.w3.org/2000/svg\" height=\"24px\" viewBox=\"0 -960 960 960\">\n",
              "    <path d=\"M120-120v-720h720v720H120Zm60-500h600v-160H180v160Zm220 220h160v-160H400v160Zm0 220h160v-160H400v160ZM180-400h160v-160H180v160Zm440 0h160v-160H620v160ZM180-180h160v-160H180v160Zm440 0h160v-160H620v160Z\"/>\n",
              "  </svg>\n",
              "    </button>\n",
              "\n",
              "  <style>\n",
              "    .colab-df-container {\n",
              "      display:flex;\n",
              "      gap: 12px;\n",
              "    }\n",
              "\n",
              "    .colab-df-convert {\n",
              "      background-color: #E8F0FE;\n",
              "      border: none;\n",
              "      border-radius: 50%;\n",
              "      cursor: pointer;\n",
              "      display: none;\n",
              "      fill: #1967D2;\n",
              "      height: 32px;\n",
              "      padding: 0 0 0 0;\n",
              "      width: 32px;\n",
              "    }\n",
              "\n",
              "    .colab-df-convert:hover {\n",
              "      background-color: #E2EBFA;\n",
              "      box-shadow: 0px 1px 2px rgba(60, 64, 67, 0.3), 0px 1px 3px 1px rgba(60, 64, 67, 0.15);\n",
              "      fill: #174EA6;\n",
              "    }\n",
              "\n",
              "    .colab-df-buttons div {\n",
              "      margin-bottom: 4px;\n",
              "    }\n",
              "\n",
              "    [theme=dark] .colab-df-convert {\n",
              "      background-color: #3B4455;\n",
              "      fill: #D2E3FC;\n",
              "    }\n",
              "\n",
              "    [theme=dark] .colab-df-convert:hover {\n",
              "      background-color: #434B5C;\n",
              "      box-shadow: 0px 1px 3px 1px rgba(0, 0, 0, 0.15);\n",
              "      filter: drop-shadow(0px 1px 2px rgba(0, 0, 0, 0.3));\n",
              "      fill: #FFFFFF;\n",
              "    }\n",
              "  </style>\n",
              "\n",
              "    <script>\n",
              "      const buttonEl =\n",
              "        document.querySelector('#df-66d6c955-5c44-4966-8904-27ec591a092f button.colab-df-convert');\n",
              "      buttonEl.style.display =\n",
              "        google.colab.kernel.accessAllowed ? 'block' : 'none';\n",
              "\n",
              "      async function convertToInteractive(key) {\n",
              "        const element = document.querySelector('#df-66d6c955-5c44-4966-8904-27ec591a092f');\n",
              "        const dataTable =\n",
              "          await google.colab.kernel.invokeFunction('convertToInteractive',\n",
              "                                                    [key], {});\n",
              "        if (!dataTable) return;\n",
              "\n",
              "        const docLinkHtml = 'Like what you see? Visit the ' +\n",
              "          '<a target=\"_blank\" href=https://colab.research.google.com/notebooks/data_table.ipynb>data table notebook</a>'\n",
              "          + ' to learn more about interactive tables.';\n",
              "        element.innerHTML = '';\n",
              "        dataTable['output_type'] = 'display_data';\n",
              "        await google.colab.output.renderOutput(dataTable, element);\n",
              "        const docLink = document.createElement('div');\n",
              "        docLink.innerHTML = docLinkHtml;\n",
              "        element.appendChild(docLink);\n",
              "      }\n",
              "    </script>\n",
              "  </div>\n",
              "\n",
              "\n",
              "<div id=\"df-e7e25a5b-5c97-46f0-87f6-d7c1dad31021\">\n",
              "  <button class=\"colab-df-quickchart\" onclick=\"quickchart('df-e7e25a5b-5c97-46f0-87f6-d7c1dad31021')\"\n",
              "            title=\"Suggest charts.\"\n",
              "            style=\"display:none;\">\n",
              "\n",
              "<svg xmlns=\"http://www.w3.org/2000/svg\" height=\"24px\"viewBox=\"0 0 24 24\"\n",
              "     width=\"24px\">\n",
              "    <g>\n",
              "        <path d=\"M19 3H5c-1.1 0-2 .9-2 2v14c0 1.1.9 2 2 2h14c1.1 0 2-.9 2-2V5c0-1.1-.9-2-2-2zM9 17H7v-7h2v7zm4 0h-2V7h2v10zm4 0h-2v-4h2v4z\"/>\n",
              "    </g>\n",
              "</svg>\n",
              "  </button>\n",
              "\n",
              "<style>\n",
              "  .colab-df-quickchart {\n",
              "      --bg-color: #E8F0FE;\n",
              "      --fill-color: #1967D2;\n",
              "      --hover-bg-color: #E2EBFA;\n",
              "      --hover-fill-color: #174EA6;\n",
              "      --disabled-fill-color: #AAA;\n",
              "      --disabled-bg-color: #DDD;\n",
              "  }\n",
              "\n",
              "  [theme=dark] .colab-df-quickchart {\n",
              "      --bg-color: #3B4455;\n",
              "      --fill-color: #D2E3FC;\n",
              "      --hover-bg-color: #434B5C;\n",
              "      --hover-fill-color: #FFFFFF;\n",
              "      --disabled-bg-color: #3B4455;\n",
              "      --disabled-fill-color: #666;\n",
              "  }\n",
              "\n",
              "  .colab-df-quickchart {\n",
              "    background-color: var(--bg-color);\n",
              "    border: none;\n",
              "    border-radius: 50%;\n",
              "    cursor: pointer;\n",
              "    display: none;\n",
              "    fill: var(--fill-color);\n",
              "    height: 32px;\n",
              "    padding: 0;\n",
              "    width: 32px;\n",
              "  }\n",
              "\n",
              "  .colab-df-quickchart:hover {\n",
              "    background-color: var(--hover-bg-color);\n",
              "    box-shadow: 0 1px 2px rgba(60, 64, 67, 0.3), 0 1px 3px 1px rgba(60, 64, 67, 0.15);\n",
              "    fill: var(--button-hover-fill-color);\n",
              "  }\n",
              "\n",
              "  .colab-df-quickchart-complete:disabled,\n",
              "  .colab-df-quickchart-complete:disabled:hover {\n",
              "    background-color: var(--disabled-bg-color);\n",
              "    fill: var(--disabled-fill-color);\n",
              "    box-shadow: none;\n",
              "  }\n",
              "\n",
              "  .colab-df-spinner {\n",
              "    border: 2px solid var(--fill-color);\n",
              "    border-color: transparent;\n",
              "    border-bottom-color: var(--fill-color);\n",
              "    animation:\n",
              "      spin 1s steps(1) infinite;\n",
              "  }\n",
              "\n",
              "  @keyframes spin {\n",
              "    0% {\n",
              "      border-color: transparent;\n",
              "      border-bottom-color: var(--fill-color);\n",
              "      border-left-color: var(--fill-color);\n",
              "    }\n",
              "    20% {\n",
              "      border-color: transparent;\n",
              "      border-left-color: var(--fill-color);\n",
              "      border-top-color: var(--fill-color);\n",
              "    }\n",
              "    30% {\n",
              "      border-color: transparent;\n",
              "      border-left-color: var(--fill-color);\n",
              "      border-top-color: var(--fill-color);\n",
              "      border-right-color: var(--fill-color);\n",
              "    }\n",
              "    40% {\n",
              "      border-color: transparent;\n",
              "      border-right-color: var(--fill-color);\n",
              "      border-top-color: var(--fill-color);\n",
              "    }\n",
              "    60% {\n",
              "      border-color: transparent;\n",
              "      border-right-color: var(--fill-color);\n",
              "    }\n",
              "    80% {\n",
              "      border-color: transparent;\n",
              "      border-right-color: var(--fill-color);\n",
              "      border-bottom-color: var(--fill-color);\n",
              "    }\n",
              "    90% {\n",
              "      border-color: transparent;\n",
              "      border-bottom-color: var(--fill-color);\n",
              "    }\n",
              "  }\n",
              "</style>\n",
              "\n",
              "  <script>\n",
              "    async function quickchart(key) {\n",
              "      const quickchartButtonEl =\n",
              "        document.querySelector('#' + key + ' button');\n",
              "      quickchartButtonEl.disabled = true;  // To prevent multiple clicks.\n",
              "      quickchartButtonEl.classList.add('colab-df-spinner');\n",
              "      try {\n",
              "        const charts = await google.colab.kernel.invokeFunction(\n",
              "            'suggestCharts', [key], {});\n",
              "      } catch (error) {\n",
              "        console.error('Error during call to suggestCharts:', error);\n",
              "      }\n",
              "      quickchartButtonEl.classList.remove('colab-df-spinner');\n",
              "      quickchartButtonEl.classList.add('colab-df-quickchart-complete');\n",
              "    }\n",
              "    (() => {\n",
              "      let quickchartButtonEl =\n",
              "        document.querySelector('#df-e7e25a5b-5c97-46f0-87f6-d7c1dad31021 button');\n",
              "      quickchartButtonEl.style.display =\n",
              "        google.colab.kernel.accessAllowed ? 'block' : 'none';\n",
              "    })();\n",
              "  </script>\n",
              "</div>\n",
              "    </div>\n",
              "  </div>\n"
            ]
          },
          "metadata": {},
          "execution_count": 10
        }
      ]
    },
    {
      "cell_type": "code",
      "source": [
        "esc50_cry_files = label_esc50.loc[label_esc50['category'] == 'crying_baby', 'filename'].values; esc50_cry_files"
      ],
      "metadata": {
        "colab": {
          "base_uri": "https://localhost:8080/"
        },
        "id": "qeBeW-5Kt7NL",
        "outputId": "20a15a60-9b25-4be9-863f-91e56204afa7"
      },
      "id": "qeBeW-5Kt7NL",
      "execution_count": 11,
      "outputs": [
        {
          "output_type": "execute_result",
          "data": {
            "text/plain": [
              "array(['1-187207-A-20.wav', '1-211527-A-20.wav', '1-211527-B-20.wav',\n",
              "       '1-211527-C-20.wav', '1-22694-A-20.wav', '1-22694-B-20.wav',\n",
              "       '1-60997-A-20.wav', '1-60997-B-20.wav', '2-107351-A-20.wav',\n",
              "       '2-107351-B-20.wav', '2-151079-A-20.wav', '2-50665-A-20.wav',\n",
              "       '2-50666-A-20.wav', '2-66637-A-20.wav', '2-66637-B-20.wav',\n",
              "       '2-80482-A-20.wav', '3-151080-A-20.wav', '3-151081-A-20.wav',\n",
              "       '3-151081-B-20.wav', '3-152007-A-20.wav', '3-152007-B-20.wav',\n",
              "       '3-152007-C-20.wav', '3-152007-D-20.wav', '3-152007-E-20.wav',\n",
              "       '4-167077-A-20.wav', '4-167077-B-20.wav', '4-167077-C-20.wav',\n",
              "       '4-185575-A-20.wav', '4-185575-B-20.wav', '4-185575-C-20.wav',\n",
              "       '4-59579-A-20.wav', '4-59579-B-20.wav', '5-151085-A-20.wav',\n",
              "       '5-198411-A-20.wav', '5-198411-B-20.wav', '5-198411-C-20.wav',\n",
              "       '5-198411-D-20.wav', '5-198411-E-20.wav', '5-198411-F-20.wav',\n",
              "       '5-198411-G-20.wav'], dtype=object)"
            ]
          },
          "metadata": {},
          "execution_count": 11
        }
      ]
    },
    {
      "cell_type": "code",
      "source": [
        "data_folder3 = folder_ESC50 + 'ESC-50-master/audio'\n",
        "\n",
        "# Initialize empty lists to store spectrograms and labels\n",
        "X3 = []\n",
        "y3_model1 = []\n",
        "for wav_file in os.listdir(data_folder3):\n",
        "        if wav_file.endswith('.wav'):\n",
        "            wav_file_path = os.path.join(data_folder3, wav_file)\n",
        "\n",
        "            # Convert WAV to spectrogram using the wav_to_spectrogram function\n",
        "            spectrogram, sr, au, tmp = wav_to_spectrogram(wav_file_path)\n",
        "\n",
        "            shape.append(tmp[1])\n",
        "            # Append the spectrogram to X_train\n",
        "            X3.append(spectrogram)\n",
        "\n",
        "            # Append the label index (numeric representation of the label) to y_train\n",
        "            if wav_file in esc50_cry_files: y3_model1.append(1)\n",
        "            else: y3_model1.append(0)\n",
        "\n",
        "# Convert lists to NumPy arrays for further processing\n",
        "X3 = np.array(X3)\n",
        "y3_model1 = np.array(y3_model1)\n",
        "\n",
        "# Check the shapes\n",
        "print(f'X shape: {X3.shape}')\n",
        "print(f'y shape: {y3_model1.shape}')"
      ],
      "metadata": {
        "colab": {
          "base_uri": "https://localhost:8080/"
        },
        "id": "8oISrgIg4HQ9",
        "outputId": "f44ad378-0090-45dd-8f26-28d5c10be83c"
      },
      "id": "8oISrgIg4HQ9",
      "execution_count": 12,
      "outputs": [
        {
          "output_type": "stream",
          "name": "stdout",
          "text": [
            "X shape: (2000, 128, 64)\n",
            "y shape: (2000,)\n"
          ]
        }
      ]
    },
    {
      "cell_type": "code",
      "source": [
        "sum(y3_model1 == 1)"
      ],
      "metadata": {
        "colab": {
          "base_uri": "https://localhost:8080/"
        },
        "id": "7fOmxQ-HvOmP",
        "outputId": "718c51fc-bd74-4992-8146-f96a100d421f"
      },
      "id": "7fOmxQ-HvOmP",
      "execution_count": null,
      "outputs": [
        {
          "output_type": "execute_result",
          "data": {
            "text/plain": [
              "40"
            ]
          },
          "metadata": {},
          "execution_count": 12
        }
      ]
    },
    {
      "cell_type": "code",
      "source": [],
      "metadata": {
        "id": "iZyGT2cu4Opc"
      },
      "id": "iZyGT2cu4Opc",
      "execution_count": null,
      "outputs": []
    },
    {
      "cell_type": "markdown",
      "source": [
        "\n",
        "# **CREMA-D**"
      ],
      "metadata": {
        "id": "72glkanMxxKO"
      },
      "id": "72glkanMxxKO"
    },
    {
      "cell_type": "code",
      "source": [
        "import os\n",
        "import subprocess\n",
        "\n",
        "# Define the GitHub repository URL\n",
        "github_repo_url = \"https://github.com/CheyneyComputerScience/CREMA-D.git\"\n",
        "\n",
        "# Clone the repository\n",
        "subprocess.run([\"git\", \"clone\", github_repo_url])\n",
        "\n",
        "# Define the path to the cloned repository\n",
        "repo_path = \"CREMA-D\""
      ],
      "metadata": {
        "id": "M3nI2_7Y4N33"
      },
      "id": "M3nI2_7Y4N33",
      "execution_count": 13,
      "outputs": []
    },
    {
      "cell_type": "code",
      "source": [
        "X4 = []\n",
        "y4_model1 = []\n",
        "\n",
        "# Initialize empty lists to store WAV file paths and folder names\n",
        "wav_files = []\n",
        "folder_names = []\n",
        "\n",
        "# Walk through the directory structure to find WAV files and their folders\n",
        "for root, dirs, files in os.walk(repo_path):\n",
        "    for file in files:\n",
        "        # if file.endswith(\".wav\"):\n",
        "        if file.endswith(\".wav\"):\n",
        "            # Get the full path of the WAV file\n",
        "            wav_path = os.path.join(root, file)\n",
        "\n",
        "            # Extract the folder name from the path\n",
        "            folder_name = os.path.basename(root)\n",
        "\n",
        "            # Append the WAV file path and folder name to the respective lists\n",
        "            wav_files.append(wav_path)\n",
        "\n",
        "            spectrogram, sr, au, tmp = wav_to_spectrogram(wav_path)\n",
        "\n",
        "            shape.append(tmp[1])\n",
        "            # Append the spectrogram to X_train\n",
        "            X4.append(spectrogram)\n",
        "\n",
        "            # Append the label index (numeric representation of the label) to y_train\n",
        "            y4_model1.append(0)\n",
        "\n",
        "# Convert lists to NumPy arrays for further processing\n",
        "X4 = np.array(X4)\n",
        "y4_model1 = np.array(y4_model1)\n",
        "\n",
        "# Check the shapes\n",
        "print(f'X shape: {X4.shape}')\n",
        "print(f'y shape: {y4_model1.shape}')"
      ],
      "metadata": {
        "colab": {
          "base_uri": "https://localhost:8080/"
        },
        "id": "esL9eA_72zi2",
        "outputId": "04cb3d43-842c-4e6c-af5c-ad470aab1d51"
      },
      "id": "esL9eA_72zi2",
      "execution_count": 14,
      "outputs": [
        {
          "output_type": "stream",
          "name": "stdout",
          "text": [
            "X shape: (7442, 128, 64)\n",
            "y shape: (7442,)\n"
          ]
        }
      ]
    },
    {
      "cell_type": "code",
      "source": [],
      "metadata": {
        "id": "QqJKPCGJ2zoT"
      },
      "id": "QqJKPCGJ2zoT",
      "execution_count": null,
      "outputs": []
    },
    {
      "cell_type": "code",
      "source": [],
      "metadata": {
        "id": "4CTiI5En2zwZ"
      },
      "id": "4CTiI5En2zwZ",
      "execution_count": null,
      "outputs": []
    },
    {
      "cell_type": "markdown",
      "source": [
        "# **Concat data**\n"
      ],
      "metadata": {
        "id": "Q0KVcUrv4Jgq"
      },
      "id": "Q0KVcUrv4Jgq"
    },
    {
      "cell_type": "code",
      "source": [
        "x_final_model1 = np.concatenate((X0, X1, X2,X3, X4), axis  = 0)\n",
        "# x_final_model1 = np.concatenate((X0, X2, X3, X4), axis  = 0)\n",
        "x_final_model1.shape"
      ],
      "metadata": {
        "colab": {
          "base_uri": "https://localhost:8080/"
        },
        "id": "F_E57KHAxwJg",
        "outputId": "b4122ea4-e7ac-4608-b40b-1065b680c7c5"
      },
      "id": "F_E57KHAxwJg",
      "execution_count": 15,
      "outputs": [
        {
          "output_type": "execute_result",
          "data": {
            "text/plain": [
              "(12639, 128, 64)"
            ]
          },
          "metadata": {},
          "execution_count": 15
        }
      ]
    },
    {
      "cell_type": "code",
      "source": [
        "y_final_model1 = np.concatenate((y0_model1, y1_model1, y2_model1,y3_model1, y4_model1), axis  = 0)\n",
        "# y_final_model1 = np.concatenate((y0_model1, y2_model1, y3_model1, y4_model1), axis  = 0)\n",
        "y_final_model1.shape"
      ],
      "metadata": {
        "colab": {
          "base_uri": "https://localhost:8080/"
        },
        "id": "0qNEomUe4HYr",
        "outputId": "34246be9-a2ea-4433-d8f2-8da2b5617235"
      },
      "id": "0qNEomUe4HYr",
      "execution_count": 16,
      "outputs": [
        {
          "output_type": "execute_result",
          "data": {
            "text/plain": [
              "(12639,)"
            ]
          },
          "metadata": {},
          "execution_count": 16
        }
      ]
    },
    {
      "cell_type": "code",
      "source": [
        "x_final_model2 = np.concatenate((X0, X1), axis  = 0)\n",
        "x_final_model2.shape"
      ],
      "metadata": {
        "colab": {
          "base_uri": "https://localhost:8080/"
        },
        "id": "C6xQu4DujiKz",
        "outputId": "fd2f5e54-742e-47d7-ea11-c080b05429d2"
      },
      "id": "C6xQu4DujiKz",
      "execution_count": 17,
      "outputs": [
        {
          "output_type": "execute_result",
          "data": {
            "text/plain": [
              "(1583, 128, 64)"
            ]
          },
          "metadata": {},
          "execution_count": 17
        }
      ]
    },
    {
      "cell_type": "code",
      "source": [
        "y_final_model2 = np.concatenate((y0_model2, y1_model2), axis  = 0)\n",
        "y_final_model2.shape"
      ],
      "metadata": {
        "colab": {
          "base_uri": "https://localhost:8080/"
        },
        "id": "zXHgrgRyjV8u",
        "outputId": "0f6772c7-c21e-498c-ea1a-e4de501ae4e7"
      },
      "id": "zXHgrgRyjV8u",
      "execution_count": 18,
      "outputs": [
        {
          "output_type": "execute_result",
          "data": {
            "text/plain": [
              "(1583,)"
            ]
          },
          "metadata": {},
          "execution_count": 18
        }
      ]
    },
    {
      "cell_type": "code",
      "source": [
        "np.save('y_final_model2.npy', y_final_model2)\n",
        "np.save('x_final_model2.npy', x_final_model2)"
      ],
      "metadata": {
        "id": "R7e6RS7E0WrT"
      },
      "id": "R7e6RS7E0WrT",
      "execution_count": 19,
      "outputs": []
    },
    {
      "cell_type": "code",
      "source": [
        "y_final_model1, y_final_model2"
      ],
      "metadata": {
        "colab": {
          "base_uri": "https://localhost:8080/"
        },
        "id": "3AkmpXvZ4HbX",
        "outputId": "a464e178-e99e-427d-c5e5-fc76df381804"
      },
      "id": "3AkmpXvZ4HbX",
      "execution_count": 21,
      "outputs": [
        {
          "output_type": "execute_result",
          "data": {
            "text/plain": [
              "(array([1, 1, 1, ..., 0, 0, 0]), array([0, 0, 0, ..., 3, 0, 3]))"
            ]
          },
          "metadata": {},
          "execution_count": 21
        }
      ]
    },
    {
      "cell_type": "code",
      "execution_count": 20,
      "id": "40b780f6-5756-43a1-92db-6347cdd1ab55",
      "metadata": {
        "id": "40b780f6-5756-43a1-92db-6347cdd1ab55"
      },
      "outputs": [],
      "source": [
        "# Train test split\n",
        "X_train, X_test, y_train, y_test = train_test_split(x_final_model1, y_final_model1, test_size=0.10, random_state=215)"
      ]
    },
    {
      "cell_type": "code",
      "source": [
        "!ls"
      ],
      "metadata": {
        "colab": {
          "base_uri": "https://localhost:8080/"
        },
        "id": "76iJe0vuyz87",
        "outputId": "d9f603e0-a2a2-48ea-b3bb-76685bbc1a0b"
      },
      "id": "76iJe0vuyz87",
      "execution_count": null,
      "outputs": [
        {
          "output_type": "stream",
          "name": "stdout",
          "text": [
            "CREMA-D  drive\tqkeras\tsample_data  x_final_model2.npy  y_final_model2.npy\n"
          ]
        }
      ]
    },
    {
      "cell_type": "code",
      "source": [
        "folder_out = \"/content/drive/My Drive/Xy_data/\""
      ],
      "metadata": {
        "id": "tLZOatYg3AtY"
      },
      "id": "tLZOatYg3AtY",
      "execution_count": null,
      "outputs": []
    },
    {
      "cell_type": "code",
      "source": [
        "np.save('X_model1.npy',  x_final_model1)"
      ],
      "metadata": {
        "id": "7R_VE-CxyGND"
      },
      "id": "7R_VE-CxyGND",
      "execution_count": null,
      "outputs": []
    },
    {
      "cell_type": "code",
      "source": [
        "np.save('./X_model2.npy',  x_final_model2)"
      ],
      "metadata": {
        "id": "NFrr2ZQozBP9"
      },
      "id": "NFrr2ZQozBP9",
      "execution_count": null,
      "outputs": []
    },
    {
      "cell_type": "code",
      "source": [
        "np.save('./y_model1.npy',  y_final_model1)"
      ],
      "metadata": {
        "id": "3ADg1RCQzF91"
      },
      "id": "3ADg1RCQzF91",
      "execution_count": null,
      "outputs": []
    },
    {
      "cell_type": "code",
      "source": [
        "np.save('./y_model2.npy',  y_final_model2)"
      ],
      "metadata": {
        "id": "97-TGZHnzGGO"
      },
      "id": "97-TGZHnzGGO",
      "execution_count": null,
      "outputs": []
    },
    {
      "cell_type": "markdown",
      "source": [],
      "metadata": {
        "id": "LEO58A840scC"
      },
      "id": "LEO58A840scC"
    },
    {
      "cell_type": "code",
      "execution_count": 22,
      "id": "e2a68fb5-e009-4675-b2e4-967510557a5e",
      "metadata": {
        "id": "e2a68fb5-e009-4675-b2e4-967510557a5e"
      },
      "outputs": [],
      "source": [
        "# Create the model\n",
        "num_classes = len(np.unique(y_train))\n",
        "x_shape = X[0].shape\n",
        "\n",
        "model = models.Sequential([\n",
        "    layers.Input(shape=(x_shape[0], x_shape[1])),  # Adjust the input shape based on your spectrogram size\n",
        "    layers.Reshape(target_shape=(x_shape[0], x_shape[1], 1)),  # Add a channel dimension\n",
        "    layers.Conv2D(32, (3, 3), activation='relu'),\n",
        "    layers.MaxPooling2D((2, 2)),\n",
        "    layers.Flatten(),\n",
        "    layers.Dense(x_shape[0], activation='relu'),\n",
        "    layers.Dense(num_classes, activation='softmax') #sigmoid\n",
        "])\n",
        "\n",
        "# Compile the model\n",
        "model.compile(optimizer='adam',\n",
        "              loss='categorical_crossentropy',\n",
        "              metrics=['accuracy'])\n"
      ]
    },
    {
      "cell_type": "code",
      "execution_count": 23,
      "id": "6ff2d5d2-3bc8-4751-9b9b-86c8c8c72ffd",
      "metadata": {
        "id": "6ff2d5d2-3bc8-4751-9b9b-86c8c8c72ffd",
        "colab": {
          "base_uri": "https://localhost:8080/"
        },
        "outputId": "f92222bf-2d3d-4bda-b624-2d82306ee0f2"
      },
      "outputs": [
        {
          "output_type": "stream",
          "name": "stdout",
          "text": [
            "Epoch 1/10\n",
            "320/320 [==============================] - 92s 282ms/step - loss: 0.1201 - accuracy: 0.9493 - val_loss: 0.0897 - val_accuracy: 0.9640\n",
            "Epoch 2/10\n",
            "320/320 [==============================] - 86s 269ms/step - loss: 0.0480 - accuracy: 0.9819 - val_loss: 0.1045 - val_accuracy: 0.9649\n",
            "Epoch 3/10\n",
            "320/320 [==============================] - 77s 242ms/step - loss: 0.0163 - accuracy: 0.9944 - val_loss: 0.0786 - val_accuracy: 0.9684\n",
            "Epoch 4/10\n",
            "320/320 [==============================] - 85s 267ms/step - loss: 0.0044 - accuracy: 0.9991 - val_loss: 0.1495 - val_accuracy: 0.9649\n",
            "Epoch 5/10\n",
            "320/320 [==============================] - 83s 259ms/step - loss: 0.0014 - accuracy: 0.9997 - val_loss: 0.1484 - val_accuracy: 0.9675\n",
            "Epoch 6/10\n",
            "320/320 [==============================] - 79s 248ms/step - loss: 6.0180e-04 - accuracy: 0.9998 - val_loss: 0.1385 - val_accuracy: 0.9692\n",
            "Epoch 7/10\n",
            "320/320 [==============================] - 86s 268ms/step - loss: 3.8631e-04 - accuracy: 0.9999 - val_loss: 0.1542 - val_accuracy: 0.9692\n",
            "Epoch 8/10\n",
            "320/320 [==============================] - 86s 270ms/step - loss: 5.6912e-04 - accuracy: 0.9999 - val_loss: 0.1312 - val_accuracy: 0.9684\n",
            "Epoch 9/10\n",
            "320/320 [==============================] - 80s 249ms/step - loss: 3.3931e-04 - accuracy: 0.9999 - val_loss: 0.1654 - val_accuracy: 0.9684\n",
            "Epoch 10/10\n",
            "320/320 [==============================] - 85s 266ms/step - loss: 7.7124e-04 - accuracy: 0.9999 - val_loss: 0.1345 - val_accuracy: 0.9675\n",
            "40/40 [==============================] - 2s 49ms/step\n",
            "Test accuracy: 0.96\n"
          ]
        }
      ],
      "source": [
        "# Convert labels to one-hot encoding (assuming you have more than one class)\n",
        "y_train_encoded = tf.keras.utils.to_categorical(y_train, num_classes)\n",
        "y_test_encoded = tf.keras.utils.to_categorical(y_test, num_classes)\n",
        "\n",
        "# Train the model\n",
        "batch_size = 32\n",
        "epochs = 10\n",
        "\n",
        "history = model.fit(X_train, y_train_encoded, batch_size=batch_size, epochs=epochs, validation_split=0.1)\n",
        "\n",
        "# Evaluate the model on the test set\n",
        "y_pred = model.predict(X_test)\n",
        "y_pred_classes = np.argmax(y_pred, axis=1)\n",
        "y_test_classes = np.argmax(y_test_encoded, axis=1)\n",
        "\n",
        "accuracy = accuracy_score(y_test_classes, y_pred_classes)\n",
        "print(f'Test accuracy: {accuracy:.2f}')"
      ]
    },
    {
      "cell_type": "markdown",
      "source": [
        "## Model Pruning"
      ],
      "metadata": {
        "id": "j8mWS7rn-cps"
      },
      "id": "j8mWS7rn-cps"
    },
    {
      "cell_type": "markdown",
      "source": [
        "### Analyze Model weights and size"
      ],
      "metadata": {
        "id": "iw8Kz3Qt-wei"
      },
      "id": "iw8Kz3Qt-wei"
    },
    {
      "cell_type": "code",
      "source": [
        "def check_model_weights(model):\n",
        "  for i, w in enumerate(model.get_weights()):\n",
        "    print(model.weights[i].name,\"Total:\",w.size, \"Zeros:\", round(np.sum(np.abs(w) <= 0.0001) / w.size * 100,6),\"%\")\n",
        "\n",
        "check_model_weights(model)"
      ],
      "metadata": {
        "colab": {
          "base_uri": "https://localhost:8080/"
        },
        "id": "zGBY8X8W-UEl",
        "outputId": "3a776336-3df7-4197-f785-d71567cea039"
      },
      "id": "zGBY8X8W-UEl",
      "execution_count": 24,
      "outputs": [
        {
          "output_type": "stream",
          "name": "stdout",
          "text": [
            "conv2d/kernel:0 Total: 288 Zeros: 0.0 %\n",
            "conv2d/bias:0 Total: 32 Zeros: 0.0 %\n",
            "dense/kernel:0 Total: 7999488 Zeros: 0.46963 %\n",
            "dense/bias:0 Total: 128 Zeros: 0.0 %\n",
            "dense_1/kernel:0 Total: 256 Zeros: 0.0 %\n",
            "dense_1/bias:0 Total: 2 Zeros: 0.0 %\n"
          ]
        }
      ]
    },
    {
      "cell_type": "code",
      "source": [
        "def compare_model_sizes(model):\n",
        "  _, model_file = tempfile.mkstemp(\".h5\")\n",
        "  tf.keras.models.save_model(model, model_file, include_optimizer=False)\n",
        "  # Zip the .h5 model file\n",
        "  _, zip3 = tempfile.mkstemp(\".zip\")\n",
        "  with zipfile.ZipFile(zip3, \"w\", compression=zipfile.ZIP_DEFLATED) as f:\n",
        "      f.write(model_file)\n",
        "  print(\"Model before zip: %.2f Kb\"% (os.path.getsize(model_file) / float(1000)))\n",
        "  print(\"Model after zip: %.2f Kb\"% (os.path.getsize(zip3) / float(1000)))\n",
        "\n",
        "compare_model_sizes(model)"
      ],
      "metadata": {
        "colab": {
          "base_uri": "https://localhost:8080/"
        },
        "id": "yfMhstB3-UMi",
        "outputId": "ee29d3fa-c165-4e08-f224-63e0cf0b4013"
      },
      "id": "yfMhstB3-UMi",
      "execution_count": 25,
      "outputs": [
        {
          "output_type": "stream",
          "name": "stdout",
          "text": [
            "Model before zip: 32020.42 Kb\n",
            "Model after zip: 29800.67 Kb\n"
          ]
        }
      ]
    },
    {
      "cell_type": "markdown",
      "source": [
        "### Model Prune"
      ],
      "metadata": {
        "id": "3aOTRLD8-0pb"
      },
      "id": "3aOTRLD8-0pb"
    },
    {
      "cell_type": "code",
      "source": [
        "# Define model for pruning\n",
        "epochs = 10\n",
        "end_step = np.ceil(len(X_train) / batch_size).astype(np.int32) * epochs\n",
        "\n",
        "pruning_params = {\n",
        "      'pruning_schedule': tfmot.sparsity.keras.PolynomialDecay(initial_sparsity=0.50,\n",
        "                                                               final_sparsity=0.80,\n",
        "                                                               begin_step=0,\n",
        "                                                               end_step=end_step)\n",
        "}\n",
        "model_for_pruning = prune_low_magnitude(model, **pruning_params)\n",
        "\n",
        "# Optimizer\n",
        "learning_rate = 0.01\n",
        "optimizer = keras.optimizers.Adam(learning_rate=learning_rate)\n",
        "# Compile\n",
        "model_for_pruning.compile(optimizer=optimizer,\n",
        "              loss='categorical_crossentropy',\n",
        "              metrics=['accuracy'])\n",
        "\n",
        "model_for_pruning.summary()\n",
        "\n",
        "# Callback\n",
        "callbacks = [\n",
        "  tfmot.sparsity.keras.UpdatePruningStep()\n",
        "]\n",
        "\n",
        "# Train\n",
        "start_time = time.time()\n",
        "\n",
        "history = model_for_pruning.fit(X_train, y_train_encoded, batch_size=batch_size, epochs=epochs, validation_split=0.1, callbacks=callbacks, verbose=1)\n",
        "\n",
        "execution_time = (time.time() - start_time)/60.0\n",
        "print(\"Training execution time (mins)\",execution_time)\n",
        "\n",
        "# Evaluate the model on the test set\n",
        "y_pred = model_for_pruning.predict(X_test)\n",
        "y_pred_classes = np.argmax(y_pred, axis=1)\n",
        "y_test_classes = np.argmax(y_test_encoded, axis=1)\n",
        "\n",
        "accuracy = accuracy_score(y_test_classes, y_pred_classes)\n",
        "print(f'Test accuracy: {accuracy:.2f}')"
      ],
      "metadata": {
        "colab": {
          "base_uri": "https://localhost:8080/"
        },
        "id": "c_4TAz8e-sSK",
        "outputId": "c181f2c1-80a6-4b36-aa21-83151eb7625e"
      },
      "id": "c_4TAz8e-sSK",
      "execution_count": 26,
      "outputs": [
        {
          "output_type": "stream",
          "name": "stdout",
          "text": [
            "Model: \"sequential\"\n",
            "_________________________________________________________________\n",
            " Layer (type)                Output Shape              Param #   \n",
            "=================================================================\n",
            " prune_low_magnitude_reshap  (None, 128, 64, 1)        1         \n",
            " e (PruneLowMagnitude)                                           \n",
            "                                                                 \n",
            " prune_low_magnitude_conv2d  (None, 126, 62, 32)       610       \n",
            "  (PruneLowMagnitude)                                            \n",
            "                                                                 \n",
            " prune_low_magnitude_max_po  (None, 63, 31, 32)        1         \n",
            " oling2d (PruneLowMagnitude                                      \n",
            " )                                                               \n",
            "                                                                 \n",
            " prune_low_magnitude_flatte  (None, 62496)             1         \n",
            " n (PruneLowMagnitude)                                           \n",
            "                                                                 \n",
            " prune_low_magnitude_dense   (None, 128)               15999106  \n",
            " (PruneLowMagnitude)                                             \n",
            "                                                                 \n",
            " prune_low_magnitude_dense_  (None, 2)                 516       \n",
            " 1 (PruneLowMagnitude)                                           \n",
            "                                                                 \n",
            "=================================================================\n",
            "Total params: 16000235 (61.04 MB)\n",
            "Trainable params: 8000194 (30.52 MB)\n",
            "Non-trainable params: 8000041 (30.52 MB)\n",
            "_________________________________________________________________\n",
            "Epoch 1/10\n",
            "320/320 [==============================] - 96s 287ms/step - loss: 0.1148 - accuracy: 0.9642 - val_loss: 0.0932 - val_accuracy: 0.9657\n",
            "Epoch 2/10\n",
            "320/320 [==============================] - 92s 287ms/step - loss: 0.0153 - accuracy: 0.9952 - val_loss: 0.1667 - val_accuracy: 0.9622\n",
            "Epoch 3/10\n",
            "320/320 [==============================] - 92s 289ms/step - loss: 0.0043 - accuracy: 0.9983 - val_loss: 0.1806 - val_accuracy: 0.9622\n",
            "Epoch 4/10\n",
            "320/320 [==============================] - 88s 275ms/step - loss: 6.7571e-04 - accuracy: 0.9997 - val_loss: 0.2022 - val_accuracy: 0.9631\n",
            "Epoch 5/10\n",
            "320/320 [==============================] - 96s 301ms/step - loss: 4.5384e-04 - accuracy: 0.9997 - val_loss: 0.2123 - val_accuracy: 0.9622\n",
            "Epoch 6/10\n",
            "320/320 [==============================] - 96s 300ms/step - loss: 3.9754e-04 - accuracy: 0.9997 - val_loss: 0.2230 - val_accuracy: 0.9631\n",
            "Epoch 7/10\n",
            "320/320 [==============================] - 93s 292ms/step - loss: 3.8918e-04 - accuracy: 0.9997 - val_loss: 0.2201 - val_accuracy: 0.9631\n",
            "Epoch 8/10\n",
            "320/320 [==============================] - 90s 281ms/step - loss: 0.0176 - accuracy: 0.9948 - val_loss: 0.1730 - val_accuracy: 0.9605\n",
            "Epoch 9/10\n",
            "320/320 [==============================] - 90s 281ms/step - loss: 0.0088 - accuracy: 0.9970 - val_loss: 0.2002 - val_accuracy: 0.9596\n",
            "Epoch 10/10\n",
            "320/320 [==============================] - 93s 290ms/step - loss: 9.9346e-04 - accuracy: 0.9997 - val_loss: 0.2517 - val_accuracy: 0.9613\n",
            "Training execution time (mins) 15.449105922381083\n",
            "40/40 [==============================] - 3s 67ms/step\n",
            "Test accuracy: 0.96\n"
          ]
        }
      ]
    },
    {
      "cell_type": "markdown",
      "source": [
        "### Analyze Pruned Weights"
      ],
      "metadata": {
        "id": "3i0yZq5MHPle"
      },
      "id": "3i0yZq5MHPle"
    },
    {
      "cell_type": "code",
      "source": [
        "# Get the model back after pruning\n",
        "after_prune = tfmot.sparsity.keras.strip_pruning(model_for_pruning)\n",
        "after_prune.summary()\n",
        "\n",
        "check_model_weights(after_prune)"
      ],
      "metadata": {
        "colab": {
          "base_uri": "https://localhost:8080/"
        },
        "id": "YeRg7eRNHH4_",
        "outputId": "af490551-b6b6-405e-ecc7-fa74cfda8fa4"
      },
      "id": "YeRg7eRNHH4_",
      "execution_count": 27,
      "outputs": [
        {
          "output_type": "stream",
          "name": "stdout",
          "text": [
            "Model: \"sequential\"\n",
            "_________________________________________________________________\n",
            " Layer (type)                Output Shape              Param #   \n",
            "=================================================================\n",
            " reshape (Reshape)           (None, 128, 64, 1)        0         \n",
            "                                                                 \n",
            " conv2d (Conv2D)             (None, 126, 62, 32)       320       \n",
            "                                                                 \n",
            " max_pooling2d (MaxPooling2  (None, 63, 31, 32)        0         \n",
            " D)                                                              \n",
            "                                                                 \n",
            " flatten (Flatten)           (None, 62496)             0         \n",
            "                                                                 \n",
            " dense (Dense)               (None, 128)               7999616   \n",
            "                                                                 \n",
            " dense_1 (Dense)             (None, 2)                 258       \n",
            "                                                                 \n",
            "=================================================================\n",
            "Total params: 8000194 (30.52 MB)\n",
            "Trainable params: 8000194 (30.52 MB)\n",
            "Non-trainable params: 0 (0.00 Byte)\n",
            "_________________________________________________________________\n",
            "conv2d/kernel:0 Total: 288 Zeros: 79.861111 %\n",
            "conv2d/bias:0 Total: 32 Zeros: 0.0 %\n",
            "dense/kernel:0 Total: 7999488 Zeros: 79.968981 %\n",
            "dense/bias:0 Total: 128 Zeros: 0.0 %\n",
            "dense_1/kernel:0 Total: 256 Zeros: 80.078125 %\n",
            "dense_1/bias:0 Total: 2 Zeros: 0.0 %\n"
          ]
        }
      ]
    },
    {
      "cell_type": "markdown",
      "source": [
        "### Model Size after Pruning"
      ],
      "metadata": {
        "id": "vaXSK0l6HTdl"
      },
      "id": "vaXSK0l6HTdl"
    },
    {
      "cell_type": "code",
      "source": [
        "compare_model_sizes(after_prune)"
      ],
      "metadata": {
        "colab": {
          "base_uri": "https://localhost:8080/"
        },
        "id": "xwn7gabbHNc0",
        "outputId": "33a1190a-0ed8-4c06-fe8d-f6ffe9f01fad"
      },
      "id": "xwn7gabbHNc0",
      "execution_count": 28,
      "outputs": [
        {
          "output_type": "stream",
          "name": "stderr",
          "text": [
            "WARNING:tensorflow:Compiled the loaded model, but the compiled metrics have yet to be built. `model.compile_metrics` will be empty until you train or evaluate the model.\n"
          ]
        },
        {
          "output_type": "stream",
          "name": "stdout",
          "text": [
            "Model before zip: 32020.42 Kb\n",
            "Model after zip: 9467.03 Kb\n"
          ]
        }
      ]
    },
    {
      "cell_type": "markdown",
      "source": [
        "## Custom Tests"
      ],
      "metadata": {
        "id": "Uv0jyLMf-Zzi"
      },
      "id": "Uv0jyLMf-Zzi"
    },
    {
      "cell_type": "code",
      "source": [
        "# Try Customized Test\n",
        "# Test labels: [0, 0, 0, 1, 1, 0, 0, 1, 1, 0, 1]\n",
        "\n",
        "folder_test = \"/content/drive/My Drive/custom_test/\""
      ],
      "metadata": {
        "id": "WHe1YTGmkq_i"
      },
      "id": "WHe1YTGmkq_i",
      "execution_count": 29,
      "outputs": []
    },
    {
      "cell_type": "code",
      "source": [
        "# Initialize empty lists to store spectrograms and labels\n",
        "Xtest = []\n",
        "ytest = []\n",
        "filename = []\n",
        "for wav_file in os.listdir(folder_test):\n",
        "        # print(wav_file)\n",
        "        if wav_file.endswith('.wav'):\n",
        "            wav_file_path = os.path.join(folder_test, wav_file)\n",
        "            spectrogram, sr, au, tmp = wav_to_spectrogram(wav_file_path)\n",
        "\n",
        "            # Append the spectrogram to X_train\n",
        "            Xtest.append(spectrogram)\n",
        "            filename.append(wav_file)\n",
        "            # Append the label index (numeric representation of the label) to y_train\n",
        "            ytest.append(1)\n",
        "\n",
        "# Convert lists to NumPy arrays for further processing\n",
        "Xtest = np.array(Xtest)\n",
        "ytest = np.array(ytest)\n",
        "\n",
        "# Check the shapes\n",
        "print(f'X shape: {Xtest.shape}')\n",
        "print(f'y shape: {ytest.shape}')"
      ],
      "metadata": {
        "id": "IniibH6AkrKU",
        "colab": {
          "base_uri": "https://localhost:8080/"
        },
        "outputId": "f5af6f90-7562-4d26-8582-04c5c2069429"
      },
      "id": "IniibH6AkrKU",
      "execution_count": 30,
      "outputs": [
        {
          "output_type": "stream",
          "name": "stdout",
          "text": [
            "X shape: (11, 128, 64)\n",
            "y shape: (11,)\n"
          ]
        }
      ]
    },
    {
      "cell_type": "code",
      "source": [
        "# True labels: [0, 0, 0, 1, 1, 0, 0, 1, 1, 0, 1]\n",
        "ypred = model.predict(Xtest)\n",
        "ypred_classes = np.argmax(ypred, axis=1)\n",
        "ypred_classes, ypred"
      ],
      "metadata": {
        "id": "mDwv5w1Ql7E_",
        "colab": {
          "base_uri": "https://localhost:8080/"
        },
        "outputId": "9555270e-7278-41dc-a1ba-75d6b36b2e1f"
      },
      "id": "mDwv5w1Ql7E_",
      "execution_count": 32,
      "outputs": [
        {
          "output_type": "stream",
          "name": "stdout",
          "text": [
            "1/1 [==============================] - 0s 44ms/step\n"
          ]
        },
        {
          "output_type": "execute_result",
          "data": {
            "text/plain": [
              "(array([0, 0, 0, 1, 0, 0, 0, 0, 0, 0, 1]),\n",
              " array([[9.9999994e-01, 2.8658986e-17],\n",
              "        [9.9999994e-01, 1.2890738e-10],\n",
              "        [9.9999994e-01, 8.9935709e-23],\n",
              "        [1.0907292e-01, 8.9092714e-01],\n",
              "        [6.5363580e-01, 3.4636414e-01],\n",
              "        [9.9999994e-01, 9.3285035e-29],\n",
              "        [9.9999994e-01, 5.9491697e-13],\n",
              "        [9.9999994e-01, 4.5529572e-16],\n",
              "        [1.0000000e+00, 7.3675659e-19],\n",
              "        [1.0000000e+00, 3.6041526e-20],\n",
              "        [2.1241959e-03, 9.9787581e-01]], dtype=float32))"
            ]
          },
          "metadata": {},
          "execution_count": 32
        }
      ]
    },
    {
      "cell_type": "code",
      "source": [
        "ypred = model_for_pruning.predict(Xtest)\n",
        "ypred_classes = np.argmax(ypred, axis=1)\n",
        "ypred_classes, filename"
      ],
      "metadata": {
        "colab": {
          "base_uri": "https://localhost:8080/"
        },
        "id": "WOyOQzcJJHg8",
        "outputId": "88ab7833-a3df-44e9-9a8c-6399fce94f0f"
      },
      "id": "WOyOQzcJJHg8",
      "execution_count": 33,
      "outputs": [
        {
          "output_type": "stream",
          "name": "stdout",
          "text": [
            "1/1 [==============================] - 0s 67ms/step\n"
          ]
        },
        {
          "output_type": "execute_result",
          "data": {
            "text/plain": [
              "(array([0, 0, 0, 1, 0, 0, 0, 0, 0, 0, 1]),\n",
              " ['test 1.wav',\n",
              "  'test 2.wav',\n",
              "  'test 3.wav',\n",
              "  'test 4.wav',\n",
              "  'test 5.wav',\n",
              "  'test 6.wav',\n",
              "  'test 7.wav',\n",
              "  'test 8.wav',\n",
              "  'test 9.wav',\n",
              "  'test 10.wav',\n",
              "  'test 11.wav'])"
            ]
          },
          "metadata": {},
          "execution_count": 33
        }
      ]
    }
  ],
  "metadata": {
    "kernelspec": {
      "display_name": "Python 3",
      "language": "python",
      "name": "python3"
    },
    "language_info": {
      "codemirror_mode": {
        "name": "ipython",
        "version": 3
      },
      "file_extension": ".py",
      "mimetype": "text/x-python",
      "name": "python",
      "nbconvert_exporter": "python",
      "pygments_lexer": "ipython3",
      "version": "3.8.8"
    },
    "colab": {
      "provenance": []
    }
  },
  "nbformat": 4,
  "nbformat_minor": 5
}