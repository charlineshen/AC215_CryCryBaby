{
  "cells": [
    {
      "cell_type": "code",
      "source": [
        "!pip install -q tensorflow_model_optimization"
      ],
      "metadata": {
        "id": "xIzWtpWrDg98",
        "colab": {
          "base_uri": "https://localhost:8080/"
        },
        "outputId": "0c2f2461-d39e-4a60-8b5f-1caa24899dbe"
      },
      "id": "xIzWtpWrDg98",
      "execution_count": null,
      "outputs": [
        {
          "output_type": "stream",
          "name": "stdout",
          "text": [
            "\u001b[?25l     \u001b[90m━━━━━━━━━━━━━━━━━━━━━━━━━━━━━━━━━━━━━━━━\u001b[0m \u001b[32m0.0/241.2 kB\u001b[0m \u001b[31m?\u001b[0m eta \u001b[36m-:--:--\u001b[0m\r\u001b[2K     \u001b[91m━━━━━━━━━━\u001b[0m\u001b[90m╺\u001b[0m\u001b[90m━━━━━━━━━━━━━━━━━━━━━━━━━━━━━\u001b[0m \u001b[32m61.4/241.2 kB\u001b[0m \u001b[31m1.6 MB/s\u001b[0m eta \u001b[36m0:00:01\u001b[0m\r\u001b[2K     \u001b[90m━━━━━━━━━━━━━━━━━━━━━━━━━━━━━━━━━━━━━━━━\u001b[0m \u001b[32m241.2/241.2 kB\u001b[0m \u001b[31m3.6 MB/s\u001b[0m eta \u001b[36m0:00:00\u001b[0m\n",
            "\u001b[?25h"
          ]
        }
      ]
    },
    {
      "cell_type": "code",
      "execution_count": null,
      "id": "280b6c3e-6a39-4680-8cbb-94a6b0a91795",
      "metadata": {
        "id": "280b6c3e-6a39-4680-8cbb-94a6b0a91795"
      },
      "outputs": [],
      "source": [
        "import matplotlib.pyplot as plt\n",
        "import numpy as np\n",
        "import pandas as pd\n",
        "\n",
        "import os\n",
        "\n",
        "from sklearn.model_selection import train_test_split\n",
        "from sklearn.metrics import accuracy_score\n",
        "\n",
        "import librosa\n",
        "import librosa.display\n",
        "\n",
        "from tensorflow.keras import layers, models\n",
        "import tensorflow as tf\n",
        "\n",
        "import tempfile\n",
        "import zipfile\n",
        "import time\n",
        "\n",
        "from tensorflow import keras\n",
        "from tensorflow.keras.models import Model, Sequential\n",
        "from tensorflow.keras.utils import to_categorical\n",
        "from tensorflow.python.keras import backend as K\n",
        "from tensorflow.python.keras.utils.layer_utils import count_params\n",
        "# TF Optimization\n",
        "import tensorflow_model_optimization as tfmot\n",
        "from tensorflow_model_optimization.sparsity.keras import prune_low_magnitude"
      ]
    },
    {
      "cell_type": "code",
      "source": [
        "import warnings\n",
        "warnings.filterwarnings('ignore')"
      ],
      "metadata": {
        "id": "ZMyoAomZZdEA"
      },
      "id": "ZMyoAomZZdEA",
      "execution_count": null,
      "outputs": []
    },
    {
      "cell_type": "code",
      "source": [
        "from google.colab import drive\n",
        "drive.mount('/content/drive', force_remount=True)\n",
        "folder_path = \"/content/drive/My Drive/donateacry_corpus_cleaned_and_updated_data/\"\n",
        "folder_crycelab2023 = \"/content/drive/My Drive/CryCeLab2023/\"\n",
        "folder_ESC50 = \"/content/drive/My Drive/ESC-50/\""
      ],
      "metadata": {
        "colab": {
          "base_uri": "https://localhost:8080/"
        },
        "id": "gGCc8G94ipiZ",
        "outputId": "ef889f15-4276-4305-f54c-ff719f35372b"
      },
      "id": "gGCc8G94ipiZ",
      "execution_count": null,
      "outputs": [
        {
          "output_type": "stream",
          "name": "stdout",
          "text": [
            "Mounted at /content/drive\n"
          ]
        }
      ]
    },
    {
      "cell_type": "code",
      "source": [
        "def wav_to_spectrogram(file_path, output_shape=(128, 64)):\n",
        "    # Load the WAV file\n",
        "    y, sr = librosa.load(file_path, sr=8000, dtype=np.float32)\n",
        "    # print(sr)\n",
        "\n",
        "    # Generate the spectrogram\n",
        "    spectrogram = librosa.feature.melspectrogram(y=y, sr=sr)\n",
        "    tmp = spectrogram.shape\n",
        "    # Resize the spectrogram so that it can be fed into the model\n",
        "    spectrogram = librosa.util.fix_length(spectrogram, size=output_shape[1], mode='constant', constant_values=0)\n",
        "\n",
        "    # Normalize the spectrogram to values between 0 and 1, this really helps improve model accuracy\n",
        "    spectrogram = librosa.util.normalize(spectrogram)\n",
        "\n",
        "    return spectrogram, sr, y, tmp\n",
        "\n",
        "\n"
      ],
      "metadata": {
        "id": "5V8TwiYhuCb-"
      },
      "id": "5V8TwiYhuCb-",
      "execution_count": null,
      "outputs": []
    },
    {
      "cell_type": "markdown",
      "source": [
        "# **457 Cleaned data**"
      ],
      "metadata": {
        "id": "P-LGtq8Ns5Kg"
      },
      "id": "P-LGtq8Ns5Kg"
    },
    {
      "cell_type": "code",
      "execution_count": null,
      "id": "d207b8b2-7bb5-4d27-987b-bef4631b61ef",
      "metadata": {
        "id": "d207b8b2-7bb5-4d27-987b-bef4631b61ef",
        "outputId": "3c741937-31ad-46b9-fc44-990fb910c238",
        "colab": {
          "base_uri": "https://localhost:8080/"
        }
      },
      "outputs": [
        {
          "output_type": "stream",
          "name": "stdout",
          "text": [
            "X shape: (457, 128, 64)\n",
            "y shape: (457,)\n"
          ]
        }
      ],
      "source": [
        "shape = []\n",
        "# Define the folder containing the subfolders with WAV files\n",
        "data_folder = folder_path\n",
        "# Define the labels (subfolder names)\n",
        "labels = ['belly_pain', 'burping', 'discomfort', 'hungry', 'tired']\n",
        "\n",
        "# Initialize empty lists to store spectrograms and labels\n",
        "X0 = []\n",
        "y0_model1 = []\n",
        "y0_model2 = []\n",
        "\n",
        "# Iterate through the labels\n",
        "for label_idx, label in enumerate(labels):\n",
        "    label_folder = os.path.join(data_folder, label)\n",
        "\n",
        "    # Iterate through WAV files in the label folder\n",
        "    for wav_file in os.listdir(label_folder):\n",
        "        if wav_file.endswith('.wav'):\n",
        "            wav_file_path = os.path.join(label_folder, wav_file)\n",
        "\n",
        "            # Convert WAV to spectrogram using the wav_to_spectrogram function\n",
        "            spectrogram, sr, au, tmp = wav_to_spectrogram(wav_file_path)\n",
        "\n",
        "            shape.append(tmp[1])\n",
        "            # Append the spectrogram to X_train\n",
        "            X0.append(spectrogram)\n",
        "\n",
        "            # Append the label index (numeric representation of the label) to y_train\n",
        "            y0_model1.append(1)\n",
        "            y0_model2.append(label_idx)\n",
        "\n",
        "# Convert lists to NumPy arrays for further processing\n",
        "X = np.array(X0)\n",
        "y0_model1 = np.array(y0_model1)\n",
        "y0_model2 = np.array(y0_model2)\n",
        "\n",
        "# Check the shapes\n",
        "print(f'X shape: {X.shape}')\n",
        "print(f'y shape: {y0_model1.shape}')"
      ]
    },
    {
      "cell_type": "code",
      "source": [
        "# min(shape),shape"
      ],
      "metadata": {
        "id": "wiV5vgvxo-jf"
      },
      "id": "wiV5vgvxo-jf",
      "execution_count": null,
      "outputs": []
    },
    {
      "cell_type": "markdown",
      "source": [
        "# **~1000 all baby cry data**"
      ],
      "metadata": {
        "id": "JXkODvQ-s9t_"
      },
      "id": "JXkODvQ-s9t_"
    },
    {
      "cell_type": "code",
      "source": [
        "data_folder1 = folder_path + 'All Data'\n",
        "label_old = {'hu': 0, 'bu': 0, 'bp': 0, 'dc': 0, 'ti': 0, 'lo': 0, 'ch': 0, 'sc': 0, 'dk': 0}\n",
        "\n",
        "# Initialize empty lists to store spectrograms and labels\n",
        "X1 = []\n",
        "y1_model1, y1_model2 = [], []\n",
        "for wav_file in os.listdir(data_folder1):\n",
        "        if wav_file.endswith('.3gp') or wav_file.endswith('.caf'):\n",
        "            wav_file_path = os.path.join(data_folder1, wav_file)\n",
        "            # lb = wav_file_path[]\n",
        "            if wav_file[-6:-4] not in label_old.keys(): continue\n",
        "            label_old[wav_file[-6:-4]] += 1\n",
        "            # Convert WAV to spectrogram using the wav_to_spectrogram function\n",
        "            spectrogram, sr, au, tmp = wav_to_spectrogram(wav_file_path)\n",
        "\n",
        "            # Append the spectrogram to X_train\n",
        "            X1.append(spectrogram)\n",
        "\n",
        "            # Append the label index (numeric representation of the label) to y_train\n",
        "            y1_model1.append(1)\n",
        "\n",
        "            label_idx = 0\n",
        "            if wav_file[-6:-4] == 'bp': label_idx = 0\n",
        "            elif wav_file[-6:-4] == \"bu\": label_idx = 1\n",
        "            elif wav_file[-6:-4] == \"dc\": label_idx = 2\n",
        "            elif wav_file[-6:-4] == \"hu\": label_idx = 3\n",
        "            elif wav_file[-6:-4] == \"ti\": label_idx = 4\n",
        "\n",
        "            y1_model2.append(label_idx)\n",
        "\n",
        "# Convert lists to NumPy arrays for further processing\n",
        "X1 = np.array(X1)\n",
        "y1_model1 = np.array(y1_model1)\n",
        "y1_model2 = np.array(y1_model2)\n",
        "# Check the shapes\n",
        "print(f'X shape: {X1.shape}')\n",
        "print(f'y shape: {y1_model2.shape}')"
      ],
      "metadata": {
        "id": "EM0FpLuhs4p6",
        "colab": {
          "base_uri": "https://localhost:8080/"
        },
        "outputId": "f0e067a7-33e7-4178-d2e2-729c0a60ab47"
      },
      "id": "EM0FpLuhs4p6",
      "execution_count": null,
      "outputs": [
        {
          "output_type": "stream",
          "name": "stdout",
          "text": [
            "X shape: (1126, 128, 64)\n",
            "y shape: (1126,)\n"
          ]
        }
      ]
    },
    {
      "cell_type": "code",
      "source": [
        "#check duplicates\n",
        "\n",
        "old_files = os.listdir(data_folder1)\n",
        "\n",
        "clean_files = []\n",
        "for label_idx, label in enumerate(labels):\n",
        "    label_folder = os.path.join(data_folder, label)\n",
        "    # Iterate through WAV files in the label folder\n",
        "    clean_files.extend(os.listdir(label_folder))\n",
        "\n",
        "\n",
        "set(old_files)&set(clean_files)\n",
        "'7b23d26e-6f97-4e8b-b520-a9fdde21ee91-1432275312750-1.7-m-48-hu.wav' in old_files"
      ],
      "metadata": {
        "colab": {
          "base_uri": "https://localhost:8080/"
        },
        "id": "y6kdwG34Y9ax",
        "outputId": "aab8f012-2f9b-4fb3-ce93-cc0535b5cba3"
      },
      "id": "y6kdwG34Y9ax",
      "execution_count": null,
      "outputs": [
        {
          "output_type": "execute_result",
          "data": {
            "text/plain": [
              "False"
            ]
          },
          "metadata": {},
          "execution_count": 9
        }
      ]
    },
    {
      "cell_type": "code",
      "source": [],
      "metadata": {
        "id": "DOA705KLcPYL"
      },
      "id": "DOA705KLcPYL",
      "execution_count": null,
      "outputs": []
    },
    {
      "cell_type": "markdown",
      "source": [
        "# **~20k cryceleb2023**"
      ],
      "metadata": {
        "id": "yp_9o1JrwJA1"
      },
      "id": "yp_9o1JrwJA1"
    },
    {
      "cell_type": "code",
      "source": [
        "data_folder2 = folder_crycelab2023 + 'audio/dev/'\n",
        "limit = 2000\n",
        "# Initialize empty lists to store spectrograms and labels\n",
        "X2 = []\n",
        "y2_model1 = []\n",
        "count = 0\n",
        "for subfolder in os.listdir(data_folder2):\n",
        "  if os.path.isdir(os.path.join(data_folder2,subfolder)):\n",
        "    for subsubfolder in os.listdir(os.path.join(data_folder2,subfolder)):\n",
        "      if os.path.isdir(os.path.join(data_folder2,subfolder, subsubfolder)):\n",
        "        for wav_file in os.listdir(os.path.join(data_folder2,subfolder,subsubfolder)):\n",
        "          if wav_file.endswith('.wav'):\n",
        "              wav_file_path = os.path.join(data_folder2,subfolder,subsubfolder, wav_file)\n",
        "              # Convert WAV to spectrogram using the wav_to_spectrogram function\n",
        "              spectrogram, sr, au, tmp = wav_to_spectrogram(wav_file_path)\n",
        "              shape.append(tmp[1])\n",
        "              # Append the spectrogram to X_train\n",
        "              X2.append(spectrogram)\n",
        "\n",
        "              # Append the label index (numeric representation of the label) to y_train\n",
        "              y2_model1.append(1)\n",
        "              count += 1\n",
        "          if count == limit:\n",
        "            break\n",
        "      if count == limit:\n",
        "        break\n",
        "  if count == limit:\n",
        "    break\n",
        "\n",
        "# Convert lists to NumPy arrays for further processing\n",
        "X2 = np.array(X2)\n",
        "y2_model1 = np.array(y2_model1)\n",
        "\n",
        "# Check the shapes\n",
        "print(f'X shape: {X2.shape}')\n",
        "print(f'y shape: {y2_model1.shape}')"
      ],
      "metadata": {
        "id": "qWwC_MNywIMg",
        "colab": {
          "base_uri": "https://localhost:8080/"
        },
        "outputId": "deefd875-4da5-41eb-cf4a-14e66b795ab6"
      },
      "id": "qWwC_MNywIMg",
      "execution_count": null,
      "outputs": [
        {
          "output_type": "stream",
          "name": "stdout",
          "text": [
            "X shape: (1614, 128, 64)\n",
            "y shape: (1614,)\n"
          ]
        }
      ]
    },
    {
      "cell_type": "code",
      "source": [
        "X2.shape"
      ],
      "metadata": {
        "colab": {
          "base_uri": "https://localhost:8080/"
        },
        "id": "vK6H_6AW3pc4",
        "outputId": "8f314255-33e8-40d4-b3f7-b7895e56d392"
      },
      "id": "vK6H_6AW3pc4",
      "execution_count": null,
      "outputs": [
        {
          "output_type": "execute_result",
          "data": {
            "text/plain": [
              "(1614, 128, 64)"
            ]
          },
          "metadata": {},
          "execution_count": 8
        }
      ]
    },
    {
      "cell_type": "code",
      "source": [
        "label_esc50 = pd.read_csv(folder_ESC50 + 'ESC-50-master/meta/esc50.csv')\n",
        "label_esc50"
      ],
      "metadata": {
        "colab": {
          "base_uri": "https://localhost:8080/",
          "height": 423
        },
        "id": "1bw1hLyrt7LI",
        "outputId": "18a411a1-6335-49aa-9961-e319a55c7493"
      },
      "id": "1bw1hLyrt7LI",
      "execution_count": null,
      "outputs": [
        {
          "output_type": "execute_result",
          "data": {
            "text/plain": [
              "               filename  fold  target        category  esc10  src_file take\n",
              "0      1-100032-A-0.wav     1       0             dog   True    100032    A\n",
              "1     1-100038-A-14.wav     1      14  chirping_birds  False    100038    A\n",
              "2     1-100210-A-36.wav     1      36  vacuum_cleaner  False    100210    A\n",
              "3     1-100210-B-36.wav     1      36  vacuum_cleaner  False    100210    B\n",
              "4     1-101296-A-19.wav     1      19    thunderstorm  False    101296    A\n",
              "...                 ...   ...     ...             ...    ...       ...  ...\n",
              "1995   5-263831-B-6.wav     5       6             hen  False    263831    B\n",
              "1996  5-263902-A-36.wav     5      36  vacuum_cleaner  False    263902    A\n",
              "1997   5-51149-A-25.wav     5      25       footsteps  False     51149    A\n",
              "1998    5-61635-A-8.wav     5       8           sheep  False     61635    A\n",
              "1999     5-9032-A-0.wav     5       0             dog   True      9032    A\n",
              "\n",
              "[2000 rows x 7 columns]"
            ],
            "text/html": [
              "\n",
              "  <div id=\"df-24d5f8b7-5c9e-4ce5-b8b3-3e828fbf824d\" class=\"colab-df-container\">\n",
              "    <div>\n",
              "<style scoped>\n",
              "    .dataframe tbody tr th:only-of-type {\n",
              "        vertical-align: middle;\n",
              "    }\n",
              "\n",
              "    .dataframe tbody tr th {\n",
              "        vertical-align: top;\n",
              "    }\n",
              "\n",
              "    .dataframe thead th {\n",
              "        text-align: right;\n",
              "    }\n",
              "</style>\n",
              "<table border=\"1\" class=\"dataframe\">\n",
              "  <thead>\n",
              "    <tr style=\"text-align: right;\">\n",
              "      <th></th>\n",
              "      <th>filename</th>\n",
              "      <th>fold</th>\n",
              "      <th>target</th>\n",
              "      <th>category</th>\n",
              "      <th>esc10</th>\n",
              "      <th>src_file</th>\n",
              "      <th>take</th>\n",
              "    </tr>\n",
              "  </thead>\n",
              "  <tbody>\n",
              "    <tr>\n",
              "      <th>0</th>\n",
              "      <td>1-100032-A-0.wav</td>\n",
              "      <td>1</td>\n",
              "      <td>0</td>\n",
              "      <td>dog</td>\n",
              "      <td>True</td>\n",
              "      <td>100032</td>\n",
              "      <td>A</td>\n",
              "    </tr>\n",
              "    <tr>\n",
              "      <th>1</th>\n",
              "      <td>1-100038-A-14.wav</td>\n",
              "      <td>1</td>\n",
              "      <td>14</td>\n",
              "      <td>chirping_birds</td>\n",
              "      <td>False</td>\n",
              "      <td>100038</td>\n",
              "      <td>A</td>\n",
              "    </tr>\n",
              "    <tr>\n",
              "      <th>2</th>\n",
              "      <td>1-100210-A-36.wav</td>\n",
              "      <td>1</td>\n",
              "      <td>36</td>\n",
              "      <td>vacuum_cleaner</td>\n",
              "      <td>False</td>\n",
              "      <td>100210</td>\n",
              "      <td>A</td>\n",
              "    </tr>\n",
              "    <tr>\n",
              "      <th>3</th>\n",
              "      <td>1-100210-B-36.wav</td>\n",
              "      <td>1</td>\n",
              "      <td>36</td>\n",
              "      <td>vacuum_cleaner</td>\n",
              "      <td>False</td>\n",
              "      <td>100210</td>\n",
              "      <td>B</td>\n",
              "    </tr>\n",
              "    <tr>\n",
              "      <th>4</th>\n",
              "      <td>1-101296-A-19.wav</td>\n",
              "      <td>1</td>\n",
              "      <td>19</td>\n",
              "      <td>thunderstorm</td>\n",
              "      <td>False</td>\n",
              "      <td>101296</td>\n",
              "      <td>A</td>\n",
              "    </tr>\n",
              "    <tr>\n",
              "      <th>...</th>\n",
              "      <td>...</td>\n",
              "      <td>...</td>\n",
              "      <td>...</td>\n",
              "      <td>...</td>\n",
              "      <td>...</td>\n",
              "      <td>...</td>\n",
              "      <td>...</td>\n",
              "    </tr>\n",
              "    <tr>\n",
              "      <th>1995</th>\n",
              "      <td>5-263831-B-6.wav</td>\n",
              "      <td>5</td>\n",
              "      <td>6</td>\n",
              "      <td>hen</td>\n",
              "      <td>False</td>\n",
              "      <td>263831</td>\n",
              "      <td>B</td>\n",
              "    </tr>\n",
              "    <tr>\n",
              "      <th>1996</th>\n",
              "      <td>5-263902-A-36.wav</td>\n",
              "      <td>5</td>\n",
              "      <td>36</td>\n",
              "      <td>vacuum_cleaner</td>\n",
              "      <td>False</td>\n",
              "      <td>263902</td>\n",
              "      <td>A</td>\n",
              "    </tr>\n",
              "    <tr>\n",
              "      <th>1997</th>\n",
              "      <td>5-51149-A-25.wav</td>\n",
              "      <td>5</td>\n",
              "      <td>25</td>\n",
              "      <td>footsteps</td>\n",
              "      <td>False</td>\n",
              "      <td>51149</td>\n",
              "      <td>A</td>\n",
              "    </tr>\n",
              "    <tr>\n",
              "      <th>1998</th>\n",
              "      <td>5-61635-A-8.wav</td>\n",
              "      <td>5</td>\n",
              "      <td>8</td>\n",
              "      <td>sheep</td>\n",
              "      <td>False</td>\n",
              "      <td>61635</td>\n",
              "      <td>A</td>\n",
              "    </tr>\n",
              "    <tr>\n",
              "      <th>1999</th>\n",
              "      <td>5-9032-A-0.wav</td>\n",
              "      <td>5</td>\n",
              "      <td>0</td>\n",
              "      <td>dog</td>\n",
              "      <td>True</td>\n",
              "      <td>9032</td>\n",
              "      <td>A</td>\n",
              "    </tr>\n",
              "  </tbody>\n",
              "</table>\n",
              "<p>2000 rows × 7 columns</p>\n",
              "</div>\n",
              "    <div class=\"colab-df-buttons\">\n",
              "\n",
              "  <div class=\"colab-df-container\">\n",
              "    <button class=\"colab-df-convert\" onclick=\"convertToInteractive('df-24d5f8b7-5c9e-4ce5-b8b3-3e828fbf824d')\"\n",
              "            title=\"Convert this dataframe to an interactive table.\"\n",
              "            style=\"display:none;\">\n",
              "\n",
              "  <svg xmlns=\"http://www.w3.org/2000/svg\" height=\"24px\" viewBox=\"0 -960 960 960\">\n",
              "    <path d=\"M120-120v-720h720v720H120Zm60-500h600v-160H180v160Zm220 220h160v-160H400v160Zm0 220h160v-160H400v160ZM180-400h160v-160H180v160Zm440 0h160v-160H620v160ZM180-180h160v-160H180v160Zm440 0h160v-160H620v160Z\"/>\n",
              "  </svg>\n",
              "    </button>\n",
              "\n",
              "  <style>\n",
              "    .colab-df-container {\n",
              "      display:flex;\n",
              "      gap: 12px;\n",
              "    }\n",
              "\n",
              "    .colab-df-convert {\n",
              "      background-color: #E8F0FE;\n",
              "      border: none;\n",
              "      border-radius: 50%;\n",
              "      cursor: pointer;\n",
              "      display: none;\n",
              "      fill: #1967D2;\n",
              "      height: 32px;\n",
              "      padding: 0 0 0 0;\n",
              "      width: 32px;\n",
              "    }\n",
              "\n",
              "    .colab-df-convert:hover {\n",
              "      background-color: #E2EBFA;\n",
              "      box-shadow: 0px 1px 2px rgba(60, 64, 67, 0.3), 0px 1px 3px 1px rgba(60, 64, 67, 0.15);\n",
              "      fill: #174EA6;\n",
              "    }\n",
              "\n",
              "    .colab-df-buttons div {\n",
              "      margin-bottom: 4px;\n",
              "    }\n",
              "\n",
              "    [theme=dark] .colab-df-convert {\n",
              "      background-color: #3B4455;\n",
              "      fill: #D2E3FC;\n",
              "    }\n",
              "\n",
              "    [theme=dark] .colab-df-convert:hover {\n",
              "      background-color: #434B5C;\n",
              "      box-shadow: 0px 1px 3px 1px rgba(0, 0, 0, 0.15);\n",
              "      filter: drop-shadow(0px 1px 2px rgba(0, 0, 0, 0.3));\n",
              "      fill: #FFFFFF;\n",
              "    }\n",
              "  </style>\n",
              "\n",
              "    <script>\n",
              "      const buttonEl =\n",
              "        document.querySelector('#df-24d5f8b7-5c9e-4ce5-b8b3-3e828fbf824d button.colab-df-convert');\n",
              "      buttonEl.style.display =\n",
              "        google.colab.kernel.accessAllowed ? 'block' : 'none';\n",
              "\n",
              "      async function convertToInteractive(key) {\n",
              "        const element = document.querySelector('#df-24d5f8b7-5c9e-4ce5-b8b3-3e828fbf824d');\n",
              "        const dataTable =\n",
              "          await google.colab.kernel.invokeFunction('convertToInteractive',\n",
              "                                                    [key], {});\n",
              "        if (!dataTable) return;\n",
              "\n",
              "        const docLinkHtml = 'Like what you see? Visit the ' +\n",
              "          '<a target=\"_blank\" href=https://colab.research.google.com/notebooks/data_table.ipynb>data table notebook</a>'\n",
              "          + ' to learn more about interactive tables.';\n",
              "        element.innerHTML = '';\n",
              "        dataTable['output_type'] = 'display_data';\n",
              "        await google.colab.output.renderOutput(dataTable, element);\n",
              "        const docLink = document.createElement('div');\n",
              "        docLink.innerHTML = docLinkHtml;\n",
              "        element.appendChild(docLink);\n",
              "      }\n",
              "    </script>\n",
              "  </div>\n",
              "\n",
              "\n",
              "<div id=\"df-f5993ab3-c1f4-4618-9ec3-856f6c86abce\">\n",
              "  <button class=\"colab-df-quickchart\" onclick=\"quickchart('df-f5993ab3-c1f4-4618-9ec3-856f6c86abce')\"\n",
              "            title=\"Suggest charts.\"\n",
              "            style=\"display:none;\">\n",
              "\n",
              "<svg xmlns=\"http://www.w3.org/2000/svg\" height=\"24px\"viewBox=\"0 0 24 24\"\n",
              "     width=\"24px\">\n",
              "    <g>\n",
              "        <path d=\"M19 3H5c-1.1 0-2 .9-2 2v14c0 1.1.9 2 2 2h14c1.1 0 2-.9 2-2V5c0-1.1-.9-2-2-2zM9 17H7v-7h2v7zm4 0h-2V7h2v10zm4 0h-2v-4h2v4z\"/>\n",
              "    </g>\n",
              "</svg>\n",
              "  </button>\n",
              "\n",
              "<style>\n",
              "  .colab-df-quickchart {\n",
              "      --bg-color: #E8F0FE;\n",
              "      --fill-color: #1967D2;\n",
              "      --hover-bg-color: #E2EBFA;\n",
              "      --hover-fill-color: #174EA6;\n",
              "      --disabled-fill-color: #AAA;\n",
              "      --disabled-bg-color: #DDD;\n",
              "  }\n",
              "\n",
              "  [theme=dark] .colab-df-quickchart {\n",
              "      --bg-color: #3B4455;\n",
              "      --fill-color: #D2E3FC;\n",
              "      --hover-bg-color: #434B5C;\n",
              "      --hover-fill-color: #FFFFFF;\n",
              "      --disabled-bg-color: #3B4455;\n",
              "      --disabled-fill-color: #666;\n",
              "  }\n",
              "\n",
              "  .colab-df-quickchart {\n",
              "    background-color: var(--bg-color);\n",
              "    border: none;\n",
              "    border-radius: 50%;\n",
              "    cursor: pointer;\n",
              "    display: none;\n",
              "    fill: var(--fill-color);\n",
              "    height: 32px;\n",
              "    padding: 0;\n",
              "    width: 32px;\n",
              "  }\n",
              "\n",
              "  .colab-df-quickchart:hover {\n",
              "    background-color: var(--hover-bg-color);\n",
              "    box-shadow: 0 1px 2px rgba(60, 64, 67, 0.3), 0 1px 3px 1px rgba(60, 64, 67, 0.15);\n",
              "    fill: var(--button-hover-fill-color);\n",
              "  }\n",
              "\n",
              "  .colab-df-quickchart-complete:disabled,\n",
              "  .colab-df-quickchart-complete:disabled:hover {\n",
              "    background-color: var(--disabled-bg-color);\n",
              "    fill: var(--disabled-fill-color);\n",
              "    box-shadow: none;\n",
              "  }\n",
              "\n",
              "  .colab-df-spinner {\n",
              "    border: 2px solid var(--fill-color);\n",
              "    border-color: transparent;\n",
              "    border-bottom-color: var(--fill-color);\n",
              "    animation:\n",
              "      spin 1s steps(1) infinite;\n",
              "  }\n",
              "\n",
              "  @keyframes spin {\n",
              "    0% {\n",
              "      border-color: transparent;\n",
              "      border-bottom-color: var(--fill-color);\n",
              "      border-left-color: var(--fill-color);\n",
              "    }\n",
              "    20% {\n",
              "      border-color: transparent;\n",
              "      border-left-color: var(--fill-color);\n",
              "      border-top-color: var(--fill-color);\n",
              "    }\n",
              "    30% {\n",
              "      border-color: transparent;\n",
              "      border-left-color: var(--fill-color);\n",
              "      border-top-color: var(--fill-color);\n",
              "      border-right-color: var(--fill-color);\n",
              "    }\n",
              "    40% {\n",
              "      border-color: transparent;\n",
              "      border-right-color: var(--fill-color);\n",
              "      border-top-color: var(--fill-color);\n",
              "    }\n",
              "    60% {\n",
              "      border-color: transparent;\n",
              "      border-right-color: var(--fill-color);\n",
              "    }\n",
              "    80% {\n",
              "      border-color: transparent;\n",
              "      border-right-color: var(--fill-color);\n",
              "      border-bottom-color: var(--fill-color);\n",
              "    }\n",
              "    90% {\n",
              "      border-color: transparent;\n",
              "      border-bottom-color: var(--fill-color);\n",
              "    }\n",
              "  }\n",
              "</style>\n",
              "\n",
              "  <script>\n",
              "    async function quickchart(key) {\n",
              "      const quickchartButtonEl =\n",
              "        document.querySelector('#' + key + ' button');\n",
              "      quickchartButtonEl.disabled = true;  // To prevent multiple clicks.\n",
              "      quickchartButtonEl.classList.add('colab-df-spinner');\n",
              "      try {\n",
              "        const charts = await google.colab.kernel.invokeFunction(\n",
              "            'suggestCharts', [key], {});\n",
              "      } catch (error) {\n",
              "        console.error('Error during call to suggestCharts:', error);\n",
              "      }\n",
              "      quickchartButtonEl.classList.remove('colab-df-spinner');\n",
              "      quickchartButtonEl.classList.add('colab-df-quickchart-complete');\n",
              "    }\n",
              "    (() => {\n",
              "      let quickchartButtonEl =\n",
              "        document.querySelector('#df-f5993ab3-c1f4-4618-9ec3-856f6c86abce button');\n",
              "      quickchartButtonEl.style.display =\n",
              "        google.colab.kernel.accessAllowed ? 'block' : 'none';\n",
              "    })();\n",
              "  </script>\n",
              "</div>\n",
              "    </div>\n",
              "  </div>\n"
            ]
          },
          "metadata": {},
          "execution_count": 9
        }
      ]
    },
    {
      "cell_type": "code",
      "source": [
        "esc50_cry_files = label_esc50.loc[label_esc50['category'] == 'crying_baby', 'filename'].values; esc50_cry_files"
      ],
      "metadata": {
        "colab": {
          "base_uri": "https://localhost:8080/"
        },
        "id": "qeBeW-5Kt7NL",
        "outputId": "bd3a5854-6a12-4925-8b20-82da9c23f54e"
      },
      "id": "qeBeW-5Kt7NL",
      "execution_count": null,
      "outputs": [
        {
          "output_type": "execute_result",
          "data": {
            "text/plain": [
              "array(['1-187207-A-20.wav', '1-211527-A-20.wav', '1-211527-B-20.wav',\n",
              "       '1-211527-C-20.wav', '1-22694-A-20.wav', '1-22694-B-20.wav',\n",
              "       '1-60997-A-20.wav', '1-60997-B-20.wav', '2-107351-A-20.wav',\n",
              "       '2-107351-B-20.wav', '2-151079-A-20.wav', '2-50665-A-20.wav',\n",
              "       '2-50666-A-20.wav', '2-66637-A-20.wav', '2-66637-B-20.wav',\n",
              "       '2-80482-A-20.wav', '3-151080-A-20.wav', '3-151081-A-20.wav',\n",
              "       '3-151081-B-20.wav', '3-152007-A-20.wav', '3-152007-B-20.wav',\n",
              "       '3-152007-C-20.wav', '3-152007-D-20.wav', '3-152007-E-20.wav',\n",
              "       '4-167077-A-20.wav', '4-167077-B-20.wav', '4-167077-C-20.wav',\n",
              "       '4-185575-A-20.wav', '4-185575-B-20.wav', '4-185575-C-20.wav',\n",
              "       '4-59579-A-20.wav', '4-59579-B-20.wav', '5-151085-A-20.wav',\n",
              "       '5-198411-A-20.wav', '5-198411-B-20.wav', '5-198411-C-20.wav',\n",
              "       '5-198411-D-20.wav', '5-198411-E-20.wav', '5-198411-F-20.wav',\n",
              "       '5-198411-G-20.wav'], dtype=object)"
            ]
          },
          "metadata": {},
          "execution_count": 10
        }
      ]
    },
    {
      "cell_type": "code",
      "source": [
        "data_folder3 = folder_ESC50 + 'ESC-50-master/audio'\n",
        "\n",
        "# Initialize empty lists to store spectrograms and labels\n",
        "X3 = []\n",
        "y3_model1 = []\n",
        "for wav_file in os.listdir(data_folder3):\n",
        "        if wav_file.endswith('.wav'):\n",
        "            wav_file_path = os.path.join(data_folder3, wav_file)\n",
        "\n",
        "            # Convert WAV to spectrogram using the wav_to_spectrogram function\n",
        "            spectrogram, sr, au, tmp = wav_to_spectrogram(wav_file_path)\n",
        "\n",
        "            shape.append(tmp[1])\n",
        "            # Append the spectrogram to X_train\n",
        "            X3.append(spectrogram)\n",
        "\n",
        "            # Append the label index (numeric representation of the label) to y_train\n",
        "            if wav_file in esc50_cry_files: y3_model1.append(1)\n",
        "            else: y3_model1.append(0)\n",
        "\n",
        "# Convert lists to NumPy arrays for further processing\n",
        "X3 = np.array(X3)\n",
        "y3_model1 = np.array(y3_model1)\n",
        "\n",
        "# Check the shapes\n",
        "print(f'X shape: {X3.shape}')\n",
        "print(f'y shape: {y3_model1.shape}')"
      ],
      "metadata": {
        "colab": {
          "base_uri": "https://localhost:8080/"
        },
        "id": "8oISrgIg4HQ9",
        "outputId": "b18b33e2-c814-4a01-f573-430470637933"
      },
      "id": "8oISrgIg4HQ9",
      "execution_count": null,
      "outputs": [
        {
          "output_type": "stream",
          "name": "stdout",
          "text": [
            "X shape: (2000, 128, 64)\n",
            "y shape: (2000,)\n"
          ]
        }
      ]
    },
    {
      "cell_type": "code",
      "source": [
        "sum(y3_model1 == 1)"
      ],
      "metadata": {
        "colab": {
          "base_uri": "https://localhost:8080/"
        },
        "id": "7fOmxQ-HvOmP",
        "outputId": "718c51fc-bd74-4992-8146-f96a100d421f"
      },
      "id": "7fOmxQ-HvOmP",
      "execution_count": null,
      "outputs": [
        {
          "output_type": "execute_result",
          "data": {
            "text/plain": [
              "40"
            ]
          },
          "metadata": {},
          "execution_count": 12
        }
      ]
    },
    {
      "cell_type": "code",
      "source": [],
      "metadata": {
        "id": "iZyGT2cu4Opc"
      },
      "id": "iZyGT2cu4Opc",
      "execution_count": null,
      "outputs": []
    },
    {
      "cell_type": "markdown",
      "source": [
        "\n",
        "# **CREMA-D**"
      ],
      "metadata": {
        "id": "72glkanMxxKO"
      },
      "id": "72glkanMxxKO"
    },
    {
      "cell_type": "code",
      "source": [
        "import os\n",
        "import subprocess\n",
        "\n",
        "# Define the GitHub repository URL\n",
        "github_repo_url = \"https://github.com/CheyneyComputerScience/CREMA-D.git\"\n",
        "\n",
        "# Clone the repository\n",
        "subprocess.run([\"git\", \"clone\", github_repo_url])\n",
        "\n",
        "# Define the path to the cloned repository\n",
        "repo_path = \"CREMA-D\""
      ],
      "metadata": {
        "id": "M3nI2_7Y4N33"
      },
      "id": "M3nI2_7Y4N33",
      "execution_count": null,
      "outputs": []
    },
    {
      "cell_type": "code",
      "source": [
        "X4 = []\n",
        "y4_model1 = []\n",
        "\n",
        "# Initialize empty lists to store WAV file paths and folder names\n",
        "wav_files = []\n",
        "folder_names = []\n",
        "\n",
        "# Walk through the directory structure to find WAV files and their folders\n",
        "for root, dirs, files in os.walk(repo_path):\n",
        "    for file in files:\n",
        "        # if file.endswith(\".wav\"):\n",
        "        if file.endswith(\".wav\"):\n",
        "            # Get the full path of the WAV file\n",
        "            wav_path = os.path.join(root, file)\n",
        "\n",
        "            # Extract the folder name from the path\n",
        "            folder_name = os.path.basename(root)\n",
        "\n",
        "            # Append the WAV file path and folder name to the respective lists\n",
        "            wav_files.append(wav_path)\n",
        "\n",
        "            spectrogram, sr, au, tmp = wav_to_spectrogram(wav_path)\n",
        "\n",
        "            shape.append(tmp[1])\n",
        "            # Append the spectrogram to X_train\n",
        "            X4.append(spectrogram)\n",
        "\n",
        "            # Append the label index (numeric representation of the label) to y_train\n",
        "            y4_model1.append(0)\n",
        "\n",
        "# Convert lists to NumPy arrays for further processing\n",
        "X4 = np.array(X4)\n",
        "y4_model1 = np.array(y4_model1)\n",
        "\n",
        "# Check the shapes\n",
        "print(f'X shape: {X4.shape}')\n",
        "print(f'y shape: {y4_model1.shape}')"
      ],
      "metadata": {
        "colab": {
          "base_uri": "https://localhost:8080/"
        },
        "id": "esL9eA_72zi2",
        "outputId": "a78427f7-2587-4492-9a4e-4b30fd6dd127"
      },
      "id": "esL9eA_72zi2",
      "execution_count": null,
      "outputs": [
        {
          "output_type": "stream",
          "name": "stdout",
          "text": [
            "X shape: (7442, 128, 64)\n",
            "y shape: (7442,)\n"
          ]
        }
      ]
    },
    {
      "cell_type": "code",
      "source": [],
      "metadata": {
        "id": "QqJKPCGJ2zoT"
      },
      "id": "QqJKPCGJ2zoT",
      "execution_count": null,
      "outputs": []
    },
    {
      "cell_type": "code",
      "source": [],
      "metadata": {
        "id": "4CTiI5En2zwZ"
      },
      "id": "4CTiI5En2zwZ",
      "execution_count": null,
      "outputs": []
    },
    {
      "cell_type": "markdown",
      "source": [
        "# **Concat data**\n"
      ],
      "metadata": {
        "id": "Q0KVcUrv4Jgq"
      },
      "id": "Q0KVcUrv4Jgq"
    },
    {
      "cell_type": "code",
      "source": [
        "x_final_model1 = np.concatenate((X0, X1, X2,X3, X4), axis  = 0)\n",
        "# x_final_model1 = np.concatenate((X0, X2, X3, X4), axis  = 0)\n",
        "x_final_model1.shape"
      ],
      "metadata": {
        "colab": {
          "base_uri": "https://localhost:8080/"
        },
        "id": "F_E57KHAxwJg",
        "outputId": "623e07c1-00ef-4c0b-9872-dffad8f5421a"
      },
      "id": "F_E57KHAxwJg",
      "execution_count": null,
      "outputs": [
        {
          "output_type": "execute_result",
          "data": {
            "text/plain": [
              "(12639, 128, 64)"
            ]
          },
          "metadata": {},
          "execution_count": 29
        }
      ]
    },
    {
      "cell_type": "code",
      "source": [
        "y_final_model1 = np.concatenate((y0_model1, y1_model1, y2_model1,y3_model1, y4_model1), axis  = 0)\n",
        "# y_final_model1 = np.concatenate((y0_model1, y2_model1, y3_model1, y4_model1), axis  = 0)\n",
        "y_final_model1.shape"
      ],
      "metadata": {
        "colab": {
          "base_uri": "https://localhost:8080/"
        },
        "id": "0qNEomUe4HYr",
        "outputId": "18deae53-38c7-4891-a7b3-906bfe1b0923"
      },
      "id": "0qNEomUe4HYr",
      "execution_count": null,
      "outputs": [
        {
          "output_type": "execute_result",
          "data": {
            "text/plain": [
              "(12639,)"
            ]
          },
          "metadata": {},
          "execution_count": 30
        }
      ]
    },
    {
      "cell_type": "code",
      "source": [
        "x_final_model2 = np.concatenate((X0, X1), axis  = 0)\n",
        "x_final_model2.shape"
      ],
      "metadata": {
        "colab": {
          "base_uri": "https://localhost:8080/"
        },
        "id": "C6xQu4DujiKz",
        "outputId": "c3f349bd-1025-4a5b-a83d-a1b20ea83713"
      },
      "id": "C6xQu4DujiKz",
      "execution_count": null,
      "outputs": [
        {
          "output_type": "execute_result",
          "data": {
            "text/plain": [
              "(1583, 128, 64)"
            ]
          },
          "metadata": {},
          "execution_count": 20
        }
      ]
    },
    {
      "cell_type": "code",
      "source": [
        "y_final_model2 = np.concatenate((y0_model2, y1_model2), axis  = 0)\n",
        "y_final_model2.shape"
      ],
      "metadata": {
        "colab": {
          "base_uri": "https://localhost:8080/"
        },
        "id": "zXHgrgRyjV8u",
        "outputId": "9a401fe1-6da6-4268-c4bd-7b8b70aab9c0"
      },
      "id": "zXHgrgRyjV8u",
      "execution_count": null,
      "outputs": [
        {
          "output_type": "execute_result",
          "data": {
            "text/plain": [
              "(1583,)"
            ]
          },
          "metadata": {},
          "execution_count": 21
        }
      ]
    },
    {
      "cell_type": "code",
      "source": [
        "np.save('y_final_model2.npy', y_final_model2)\n",
        "np.save('x_final_model2.npy', x_final_model2)"
      ],
      "metadata": {
        "id": "R7e6RS7E0WrT"
      },
      "id": "R7e6RS7E0WrT",
      "execution_count": null,
      "outputs": []
    },
    {
      "cell_type": "code",
      "source": [
        "y_final_model1, y_final_model2"
      ],
      "metadata": {
        "colab": {
          "base_uri": "https://localhost:8080/"
        },
        "id": "3AkmpXvZ4HbX",
        "outputId": "5a62e13e-7f46-4c73-89f6-fbf6da81d172"
      },
      "id": "3AkmpXvZ4HbX",
      "execution_count": null,
      "outputs": [
        {
          "output_type": "execute_result",
          "data": {
            "text/plain": [
              "(array([1, 1, 1, ..., 0, 0, 0]), array([0, 0, 0, ..., 3, 0, 3]))"
            ]
          },
          "metadata": {},
          "execution_count": 23
        }
      ]
    },
    {
      "cell_type": "code",
      "execution_count": null,
      "id": "40b780f6-5756-43a1-92db-6347cdd1ab55",
      "metadata": {
        "id": "40b780f6-5756-43a1-92db-6347cdd1ab55"
      },
      "outputs": [],
      "source": [
        "# Train test split\n",
        "X_train, X_test, y_train, y_test = train_test_split(x_final_model1, y_final_model1, test_size=0.10, random_state=215)"
      ]
    },
    {
      "cell_type": "code",
      "source": [
        "!ls"
      ],
      "metadata": {
        "colab": {
          "base_uri": "https://localhost:8080/"
        },
        "id": "76iJe0vuyz87",
        "outputId": "d9f603e0-a2a2-48ea-b3bb-76685bbc1a0b"
      },
      "id": "76iJe0vuyz87",
      "execution_count": null,
      "outputs": [
        {
          "output_type": "stream",
          "name": "stdout",
          "text": [
            "CREMA-D  drive\tqkeras\tsample_data  x_final_model2.npy  y_final_model2.npy\n"
          ]
        }
      ]
    },
    {
      "cell_type": "code",
      "source": [
        "folder_out = \"/content/drive/My Drive/Xy_data/\""
      ],
      "metadata": {
        "id": "tLZOatYg3AtY"
      },
      "id": "tLZOatYg3AtY",
      "execution_count": null,
      "outputs": []
    },
    {
      "cell_type": "code",
      "source": [
        "np.save('X_model1.npy',  x_final_model1)"
      ],
      "metadata": {
        "id": "7R_VE-CxyGND"
      },
      "id": "7R_VE-CxyGND",
      "execution_count": null,
      "outputs": []
    },
    {
      "cell_type": "code",
      "source": [
        "np.save('./X_model2.npy',  x_final_model2)"
      ],
      "metadata": {
        "id": "NFrr2ZQozBP9"
      },
      "id": "NFrr2ZQozBP9",
      "execution_count": null,
      "outputs": []
    },
    {
      "cell_type": "code",
      "source": [
        "np.save('./y_model1.npy',  y_final_model1)"
      ],
      "metadata": {
        "id": "3ADg1RCQzF91"
      },
      "id": "3ADg1RCQzF91",
      "execution_count": null,
      "outputs": []
    },
    {
      "cell_type": "code",
      "source": [
        "np.save('./y_model2.npy',  y_final_model2)"
      ],
      "metadata": {
        "id": "97-TGZHnzGGO"
      },
      "id": "97-TGZHnzGGO",
      "execution_count": null,
      "outputs": []
    },
    {
      "cell_type": "markdown",
      "source": [],
      "metadata": {
        "id": "LEO58A840scC"
      },
      "id": "LEO58A840scC"
    },
    {
      "cell_type": "code",
      "execution_count": null,
      "id": "e2a68fb5-e009-4675-b2e4-967510557a5e",
      "metadata": {
        "id": "e2a68fb5-e009-4675-b2e4-967510557a5e"
      },
      "outputs": [],
      "source": [
        "# Create the model\n",
        "num_classes = len(np.unique(y_train))\n",
        "x_shape = X[0].shape\n",
        "\n",
        "model = models.Sequential([\n",
        "    layers.Input(shape=(x_shape[0], x_shape[1])),  # Adjust the input shape based on your spectrogram size\n",
        "    layers.Reshape(target_shape=(x_shape[0], x_shape[1], 1)),  # Add a channel dimension\n",
        "    layers.Conv2D(32, (3, 3), activation='relu'),\n",
        "    layers.MaxPooling2D((2, 2)),\n",
        "    layers.Flatten(),\n",
        "    layers.Dense(x_shape[0], activation='relu'),\n",
        "    layers.Dense(num_classes, activation='softmax') #sigmoid\n",
        "])\n",
        "\n",
        "# Compile the model\n",
        "model.compile(optimizer='adam',\n",
        "              loss='categorical_crossentropy',\n",
        "              metrics=['accuracy'])\n"
      ]
    },
    {
      "cell_type": "code",
      "execution_count": null,
      "id": "6ff2d5d2-3bc8-4751-9b9b-86c8c8c72ffd",
      "metadata": {
        "id": "6ff2d5d2-3bc8-4751-9b9b-86c8c8c72ffd",
        "colab": {
          "base_uri": "https://localhost:8080/"
        },
        "outputId": "b85e08a0-b6ed-4053-c000-d619abd53e5b"
      },
      "outputs": [
        {
          "output_type": "stream",
          "name": "stdout",
          "text": [
            "Epoch 1/10\n",
            "292/292 [==============================] - 77s 261ms/step - loss: 0.0888 - accuracy: 0.9648 - val_loss: 0.0660 - val_accuracy: 0.9711\n",
            "Epoch 2/10\n",
            "292/292 [==============================] - 71s 245ms/step - loss: 0.0277 - accuracy: 0.9898 - val_loss: 0.0618 - val_accuracy: 0.9749\n",
            "Epoch 3/10\n",
            "292/292 [==============================] - 71s 242ms/step - loss: 0.0083 - accuracy: 0.9974 - val_loss: 0.0826 - val_accuracy: 0.9759\n",
            "Epoch 4/10\n",
            "292/292 [==============================] - 73s 249ms/step - loss: 0.0026 - accuracy: 0.9992 - val_loss: 0.0865 - val_accuracy: 0.9730\n",
            "Epoch 5/10\n",
            "292/292 [==============================] - 70s 241ms/step - loss: 6.9717e-04 - accuracy: 0.9999 - val_loss: 0.1019 - val_accuracy: 0.9769\n",
            "Epoch 6/10\n",
            "292/292 [==============================] - 67s 231ms/step - loss: 2.6496e-04 - accuracy: 1.0000 - val_loss: 0.1000 - val_accuracy: 0.9749\n",
            "Epoch 7/10\n",
            "292/292 [==============================] - 71s 242ms/step - loss: 1.3770e-04 - accuracy: 1.0000 - val_loss: 0.1061 - val_accuracy: 0.9749\n",
            "Epoch 8/10\n",
            "292/292 [==============================] - 72s 248ms/step - loss: 8.3264e-05 - accuracy: 1.0000 - val_loss: 0.1086 - val_accuracy: 0.9749\n",
            "Epoch 9/10\n",
            "292/292 [==============================] - 73s 251ms/step - loss: 5.0684e-05 - accuracy: 1.0000 - val_loss: 0.1136 - val_accuracy: 0.9720\n",
            "Epoch 10/10\n",
            "292/292 [==============================] - 68s 233ms/step - loss: 3.8256e-05 - accuracy: 1.0000 - val_loss: 0.1175 - val_accuracy: 0.9740\n",
            "36/36 [==============================] - 2s 58ms/step\n",
            "Test accuracy: 0.97\n"
          ]
        }
      ],
      "source": [
        "# Convert labels to one-hot encoding (assuming you have more than one class)\n",
        "y_train_encoded = tf.keras.utils.to_categorical(y_train, num_classes)\n",
        "y_test_encoded = tf.keras.utils.to_categorical(y_test, num_classes)\n",
        "\n",
        "# Train the model\n",
        "batch_size = 32\n",
        "epochs = 10\n",
        "\n",
        "history = model.fit(X_train, y_train_encoded, batch_size=batch_size, epochs=epochs, validation_split=0.1)\n",
        "\n",
        "# Evaluate the model on the test set\n",
        "y_pred = model.predict(X_test)\n",
        "y_pred_classes = np.argmax(y_pred, axis=1)\n",
        "y_test_classes = np.argmax(y_test_encoded, axis=1)\n",
        "\n",
        "accuracy = accuracy_score(y_test_classes, y_pred_classes)\n",
        "print(f'Test accuracy: {accuracy:.2f}')"
      ]
    },
    {
      "cell_type": "markdown",
      "source": [
        "## Model Pruning"
      ],
      "metadata": {
        "id": "j8mWS7rn-cps"
      },
      "id": "j8mWS7rn-cps"
    },
    {
      "cell_type": "markdown",
      "source": [
        "### Analyze Model weights and size"
      ],
      "metadata": {
        "id": "iw8Kz3Qt-wei"
      },
      "id": "iw8Kz3Qt-wei"
    },
    {
      "cell_type": "code",
      "source": [
        "def check_model_weights(model):\n",
        "  for i, w in enumerate(model.get_weights()):\n",
        "    print(model.weights[i].name,\"Total:\",w.size, \"Zeros:\", round(np.sum(np.abs(w) <= 0.0001) / w.size * 100,6),\"%\")\n",
        "\n",
        "check_model_weights(model)"
      ],
      "metadata": {
        "colab": {
          "base_uri": "https://localhost:8080/"
        },
        "id": "zGBY8X8W-UEl",
        "outputId": "58352296-63e2-4232-ece0-f592047bba36"
      },
      "id": "zGBY8X8W-UEl",
      "execution_count": null,
      "outputs": [
        {
          "output_type": "stream",
          "name": "stdout",
          "text": [
            "conv2d/kernel:0 Total: 288 Zeros: 0.0 %\n",
            "conv2d/bias:0 Total: 32 Zeros: 0.0 %\n",
            "dense/kernel:0 Total: 7999488 Zeros: 0.668343 %\n",
            "dense/bias:0 Total: 128 Zeros: 1.5625 %\n",
            "dense_1/kernel:0 Total: 256 Zeros: 0.390625 %\n",
            "dense_1/bias:0 Total: 2 Zeros: 0.0 %\n"
          ]
        }
      ]
    },
    {
      "cell_type": "code",
      "source": [
        "def compare_model_sizes(model):\n",
        "  _, model_file = tempfile.mkstemp(\".h5\")\n",
        "  tf.keras.models.save_model(model, model_file, include_optimizer=False)\n",
        "  # Zip the .h5 model file\n",
        "  _, zip3 = tempfile.mkstemp(\".zip\")\n",
        "  with zipfile.ZipFile(zip3, \"w\", compression=zipfile.ZIP_DEFLATED) as f:\n",
        "      f.write(model_file)\n",
        "  print(\"Model before zip: %.2f Kb\"% (os.path.getsize(model_file) / float(1000)))\n",
        "  print(\"Model after zip: %.2f Kb\"% (os.path.getsize(zip3) / float(1000)))\n",
        "\n",
        "compare_model_sizes(model)"
      ],
      "metadata": {
        "colab": {
          "base_uri": "https://localhost:8080/"
        },
        "id": "yfMhstB3-UMi",
        "outputId": "a1c60004-73f1-4bc0-cae3-2b9ff2cbe5d3"
      },
      "id": "yfMhstB3-UMi",
      "execution_count": null,
      "outputs": [
        {
          "output_type": "stream",
          "name": "stdout",
          "text": [
            "Model before zip: 32020.42 Kb\n",
            "Model after zip: 29702.04 Kb\n"
          ]
        }
      ]
    },
    {
      "cell_type": "markdown",
      "source": [
        "### Model Prune"
      ],
      "metadata": {
        "id": "3aOTRLD8-0pb"
      },
      "id": "3aOTRLD8-0pb"
    },
    {
      "cell_type": "code",
      "source": [
        "# Define model for pruning\n",
        "epochs = 5\n",
        "end_step = np.ceil(len(X_train) / batch_size).astype(np.int32) * epochs\n",
        "\n",
        "pruning_params = {\n",
        "      'pruning_schedule': tfmot.sparsity.keras.PolynomialDecay(initial_sparsity=0.50,\n",
        "                                                               final_sparsity=0.80,\n",
        "                                                               begin_step=0,\n",
        "                                                               end_step=end_step)\n",
        "}\n",
        "model_for_pruning = prune_low_magnitude(model, **pruning_params)\n",
        "\n",
        "# Optimizer\n",
        "learning_rate = 0.01\n",
        "optimizer = keras.optimizers.Adam(learning_rate=learning_rate)\n",
        "# Compile\n",
        "model_for_pruning.compile(optimizer=optimizer,\n",
        "              loss='categorical_crossentropy',\n",
        "              metrics=['accuracy'])\n",
        "\n",
        "model_for_pruning.summary()\n",
        "\n",
        "# Callback\n",
        "callbacks = [\n",
        "  tfmot.sparsity.keras.UpdatePruningStep()\n",
        "]\n",
        "\n",
        "# Train\n",
        "start_time = time.time()\n",
        "\n",
        "history = model_for_pruning.fit(X_train, y_train_encoded, batch_size=batch_size, epochs=epochs, validation_split=0.1, callbacks=callbacks, verbose=1)\n",
        "\n",
        "execution_time = (time.time() - start_time)/60.0\n",
        "print(\"Training execution time (mins)\",execution_time)\n",
        "\n",
        "# Evaluate the model on the test set\n",
        "y_pred = model_for_pruning.predict(X_test)\n",
        "y_pred_classes = np.argmax(y_pred, axis=1)\n",
        "y_test_classes = np.argmax(y_test_encoded, axis=1)\n",
        "\n",
        "accuracy = accuracy_score(y_test_classes, y_pred_classes)\n",
        "print(f'Test accuracy: {accuracy:.2f}')"
      ],
      "metadata": {
        "colab": {
          "base_uri": "https://localhost:8080/"
        },
        "id": "c_4TAz8e-sSK",
        "outputId": "c61e39a0-465c-401a-b53a-1a8feaa04b4e"
      },
      "id": "c_4TAz8e-sSK",
      "execution_count": null,
      "outputs": [
        {
          "output_type": "stream",
          "name": "stdout",
          "text": [
            "Model: \"sequential\"\n",
            "_________________________________________________________________\n",
            " Layer (type)                Output Shape              Param #   \n",
            "=================================================================\n",
            " prune_low_magnitude_reshap  (None, 128, 64, 1)        1         \n",
            " e (PruneLowMagnitude)                                           \n",
            "                                                                 \n",
            " prune_low_magnitude_conv2d  (None, 126, 62, 32)       610       \n",
            "  (PruneLowMagnitude)                                            \n",
            "                                                                 \n",
            " prune_low_magnitude_max_po  (None, 63, 31, 32)        1         \n",
            " oling2d (PruneLowMagnitude                                      \n",
            " )                                                               \n",
            "                                                                 \n",
            " prune_low_magnitude_flatte  (None, 62496)             1         \n",
            " n (PruneLowMagnitude)                                           \n",
            "                                                                 \n",
            " prune_low_magnitude_dense   (None, 128)               15999106  \n",
            " (PruneLowMagnitude)                                             \n",
            "                                                                 \n",
            " prune_low_magnitude_dense_  (None, 2)                 516       \n",
            " 1 (PruneLowMagnitude)                                           \n",
            "                                                                 \n",
            "=================================================================\n",
            "Total params: 16000235 (61.04 MB)\n",
            "Trainable params: 8000194 (30.52 MB)\n",
            "Non-trainable params: 8000041 (30.52 MB)\n",
            "_________________________________________________________________\n",
            "Epoch 1/5\n",
            "132/132 [==============================] - 39s 276ms/step - loss: 0.2928 - accuracy: 0.8950 - val_loss: 0.1994 - val_accuracy: 0.9188\n",
            "Epoch 2/5\n",
            "132/132 [==============================] - 43s 325ms/step - loss: 0.1045 - accuracy: 0.9622 - val_loss: 0.2235 - val_accuracy: 0.9209\n",
            "Epoch 3/5\n",
            "132/132 [==============================] - 35s 262ms/step - loss: 0.0300 - accuracy: 0.9903 - val_loss: 0.2818 - val_accuracy: 0.9274\n",
            "Epoch 4/5\n",
            "132/132 [==============================] - 39s 294ms/step - loss: 0.0077 - accuracy: 0.9976 - val_loss: 0.3251 - val_accuracy: 0.9316\n",
            "Epoch 5/5\n",
            "132/132 [==============================] - 35s 265ms/step - loss: 0.0028 - accuracy: 0.9988 - val_loss: 0.3949 - val_accuracy: 0.9316\n",
            "Training execution time (mins) 3.419132860501607\n",
            "17/17 [==============================] - 1s 52ms/step\n",
            "Test accuracy: 0.93\n"
          ]
        }
      ]
    },
    {
      "cell_type": "markdown",
      "source": [
        "### Analyze Pruned Weights"
      ],
      "metadata": {
        "id": "3i0yZq5MHPle"
      },
      "id": "3i0yZq5MHPle"
    },
    {
      "cell_type": "code",
      "source": [
        "# Get the model back after pruning\n",
        "after_prune = tfmot.sparsity.keras.strip_pruning(model_for_pruning)\n",
        "after_prune.summary()\n",
        "\n",
        "check_model_weights(after_prune)"
      ],
      "metadata": {
        "colab": {
          "base_uri": "https://localhost:8080/"
        },
        "id": "YeRg7eRNHH4_",
        "outputId": "b77c42b3-6d5e-4257-8292-d6c99350d2d8"
      },
      "id": "YeRg7eRNHH4_",
      "execution_count": null,
      "outputs": [
        {
          "output_type": "stream",
          "name": "stdout",
          "text": [
            "Model: \"sequential\"\n",
            "_________________________________________________________________\n",
            " Layer (type)                Output Shape              Param #   \n",
            "=================================================================\n",
            " reshape (Reshape)           (None, 128, 64, 1)        0         \n",
            "                                                                 \n",
            " conv2d (Conv2D)             (None, 126, 62, 32)       320       \n",
            "                                                                 \n",
            " max_pooling2d (MaxPooling2  (None, 63, 31, 32)        0         \n",
            " D)                                                              \n",
            "                                                                 \n",
            " flatten (Flatten)           (None, 62496)             0         \n",
            "                                                                 \n",
            " dense (Dense)               (None, 128)               7999616   \n",
            "                                                                 \n",
            " dense_1 (Dense)             (None, 2)                 258       \n",
            "                                                                 \n",
            "=================================================================\n",
            "Total params: 8000194 (30.52 MB)\n",
            "Trainable params: 8000194 (30.52 MB)\n",
            "Non-trainable params: 0 (0.00 Byte)\n",
            "_________________________________________________________________\n",
            "conv2d/kernel:0 Total: 288 Zeros: 79.861111 %\n",
            "conv2d/bias:0 Total: 32 Zeros: 0.0 %\n",
            "dense/kernel:0 Total: 7999488 Zeros: 79.814108 %\n",
            "dense/bias:0 Total: 128 Zeros: 0.0 %\n",
            "dense_1/kernel:0 Total: 256 Zeros: 79.6875 %\n",
            "dense_1/bias:0 Total: 2 Zeros: 0.0 %\n"
          ]
        }
      ]
    },
    {
      "cell_type": "markdown",
      "source": [
        "### Model Size after Pruning"
      ],
      "metadata": {
        "id": "vaXSK0l6HTdl"
      },
      "id": "vaXSK0l6HTdl"
    },
    {
      "cell_type": "code",
      "source": [
        "compare_model_sizes(after_prune)"
      ],
      "metadata": {
        "colab": {
          "base_uri": "https://localhost:8080/"
        },
        "id": "xwn7gabbHNc0",
        "outputId": "0556747a-2ac9-4fb5-9165-d88ccc33e979"
      },
      "id": "xwn7gabbHNc0",
      "execution_count": null,
      "outputs": [
        {
          "output_type": "stream",
          "name": "stderr",
          "text": [
            "WARNING:tensorflow:Compiled the loaded model, but the compiled metrics have yet to be built. `model.compile_metrics` will be empty until you train or evaluate the model.\n"
          ]
        },
        {
          "output_type": "stream",
          "name": "stdout",
          "text": [
            "Model before zip: 32020.42 Kb\n",
            "Model after zip: 9231.73 Kb\n"
          ]
        }
      ]
    },
    {
      "cell_type": "markdown",
      "source": [
        "## Custom Tests"
      ],
      "metadata": {
        "id": "Uv0jyLMf-Zzi"
      },
      "id": "Uv0jyLMf-Zzi"
    },
    {
      "cell_type": "code",
      "source": [
        "# Try Customized Test\n",
        "# Test labels: [0, 0, 0, 1, 1, 0, 0, 1, 1, 0, 1]\n",
        "\n",
        "folder_test = \"/content/drive/My Drive/custom_test/\""
      ],
      "metadata": {
        "id": "WHe1YTGmkq_i"
      },
      "id": "WHe1YTGmkq_i",
      "execution_count": null,
      "outputs": []
    },
    {
      "cell_type": "code",
      "source": [
        "# Initialize empty lists to store spectrograms and labels\n",
        "Xtest = []\n",
        "ytest = []\n",
        "filename = []\n",
        "for wav_file in os.listdir(folder_test):\n",
        "        # print(wav_file)\n",
        "        if wav_file.endswith('.wav'):\n",
        "            wav_file_path = os.path.join(folder_test, wav_file)\n",
        "            spectrogram, sr, au, tmp = wav_to_spectrogram(wav_file_path)\n",
        "\n",
        "            # Append the spectrogram to X_train\n",
        "            Xtest.append(spectrogram)\n",
        "            filename.append(wav_file)\n",
        "            # Append the label index (numeric representation of the label) to y_train\n",
        "            ytest.append(1)\n",
        "\n",
        "# Convert lists to NumPy arrays for further processing\n",
        "Xtest = np.array(Xtest)\n",
        "ytest = np.array(ytest)\n",
        "\n",
        "# Check the shapes\n",
        "print(f'X shape: {Xtest.shape}')\n",
        "print(f'y shape: {ytest.shape}')"
      ],
      "metadata": {
        "id": "IniibH6AkrKU"
      },
      "id": "IniibH6AkrKU",
      "execution_count": null,
      "outputs": []
    },
    {
      "cell_type": "code",
      "source": [
        "# True labels: [0, 0, 0, 1, 1, 0, 0, 1, 1, 0, 1]\n",
        "ypred = model.predict(Xtest)\n",
        "ypred_classes = np.argmax(ypred, axis=1)\n",
        "ypred_classes, ypred"
      ],
      "metadata": {
        "id": "mDwv5w1Ql7E_",
        "colab": {
          "base_uri": "https://localhost:8080/"
        },
        "outputId": "97846422-119d-48e8-f3e5-9e4922b1e9ca"
      },
      "id": "mDwv5w1Ql7E_",
      "execution_count": null,
      "outputs": [
        {
          "output_type": "stream",
          "name": "stdout",
          "text": [
            "1/1 [==============================] - 0s 136ms/step\n"
          ]
        },
        {
          "output_type": "execute_result",
          "data": {
            "text/plain": [
              "(array([0, 0, 0, 1, 0, 0, 0, 0, 0, 0, 0]),\n",
              " array([[9.1212624e-01, 8.7873638e-02],\n",
              "        [9.9973178e-01, 2.6826462e-04],\n",
              "        [9.9999994e-01, 6.7306266e-10],\n",
              "        [2.0896146e-01, 7.9103857e-01],\n",
              "        [8.4596211e-01, 1.5403786e-01],\n",
              "        [9.9999994e-01, 6.0493011e-21],\n",
              "        [9.9985790e-01, 1.4216064e-04],\n",
              "        [9.9999994e-01, 2.6409555e-13],\n",
              "        [1.0000000e+00, 1.4125071e-10],\n",
              "        [1.0000000e+00, 2.7305738e-17],\n",
              "        [9.9999571e-01, 4.2798210e-06]], dtype=float32))"
            ]
          },
          "metadata": {},
          "execution_count": 33
        }
      ]
    },
    {
      "cell_type": "code",
      "source": [
        "ypred = model_for_pruning.predict(Xtest)\n",
        "ypred_classes = np.argmax(ypred, axis=1)\n",
        "ypred_classes, filename"
      ],
      "metadata": {
        "colab": {
          "base_uri": "https://localhost:8080/"
        },
        "id": "WOyOQzcJJHg8",
        "outputId": "8e45de43-c1e5-4d22-9b54-b77f4d0f8477"
      },
      "id": "WOyOQzcJJHg8",
      "execution_count": null,
      "outputs": [
        {
          "output_type": "error",
          "ename": "NameError",
          "evalue": "ignored",
          "traceback": [
            "\u001b[0;31m---------------------------------------------------------------------------\u001b[0m",
            "\u001b[0;31mNameError\u001b[0m                                 Traceback (most recent call last)",
            "\u001b[0;32m<ipython-input-34-db4b355ce0b2>\u001b[0m in \u001b[0;36m<cell line: 1>\u001b[0;34m()\u001b[0m\n\u001b[0;32m----> 1\u001b[0;31m \u001b[0mypred\u001b[0m \u001b[0;34m=\u001b[0m \u001b[0mmodel_for_pruning\u001b[0m\u001b[0;34m.\u001b[0m\u001b[0mpredict\u001b[0m\u001b[0;34m(\u001b[0m\u001b[0mXtest\u001b[0m\u001b[0;34m)\u001b[0m\u001b[0;34m\u001b[0m\u001b[0;34m\u001b[0m\u001b[0m\n\u001b[0m\u001b[1;32m      2\u001b[0m \u001b[0mypred_classes\u001b[0m \u001b[0;34m=\u001b[0m \u001b[0mnp\u001b[0m\u001b[0;34m.\u001b[0m\u001b[0margmax\u001b[0m\u001b[0;34m(\u001b[0m\u001b[0mypred\u001b[0m\u001b[0;34m,\u001b[0m \u001b[0maxis\u001b[0m\u001b[0;34m=\u001b[0m\u001b[0;36m1\u001b[0m\u001b[0;34m)\u001b[0m\u001b[0;34m\u001b[0m\u001b[0;34m\u001b[0m\u001b[0m\n\u001b[1;32m      3\u001b[0m \u001b[0mypred_classes\u001b[0m\u001b[0;34m,\u001b[0m \u001b[0mfilename\u001b[0m\u001b[0;34m\u001b[0m\u001b[0;34m\u001b[0m\u001b[0m\n",
            "\u001b[0;31mNameError\u001b[0m: name 'model_for_pruning' is not defined"
          ]
        }
      ]
    },
    {
      "cell_type": "code",
      "source": [],
      "metadata": {
        "id": "gRWPX0RIJ9L2"
      },
      "id": "gRWPX0RIJ9L2",
      "execution_count": null,
      "outputs": []
    },
    {
      "cell_type": "code",
      "source": [],
      "metadata": {
        "id": "2BcjgYUtJ9PM"
      },
      "id": "2BcjgYUtJ9PM",
      "execution_count": null,
      "outputs": []
    },
    {
      "cell_type": "code",
      "source": [],
      "metadata": {
        "id": "fXhwGv2OJ9Qt"
      },
      "id": "fXhwGv2OJ9Qt",
      "execution_count": null,
      "outputs": []
    },
    {
      "cell_type": "code",
      "source": [],
      "metadata": {
        "id": "B9K4YlZYJ9Sz"
      },
      "id": "B9K4YlZYJ9Sz",
      "execution_count": null,
      "outputs": []
    },
    {
      "cell_type": "code",
      "source": [],
      "metadata": {
        "id": "gWdHEYMzJ9Ux"
      },
      "id": "gWdHEYMzJ9Ux",
      "execution_count": null,
      "outputs": []
    },
    {
      "cell_type": "code",
      "source": [
        "# Create TF Dataset\n",
        "train_data = tf.data.Dataset.from_tensor_slices((X_train, y_train_encoded))\n",
        "validation_data = tf.data.Dataset.from_tensor_slices((X_test, y_test_encoded))"
      ],
      "metadata": {
        "id": "g9cufxvCJZO5"
      },
      "id": "g9cufxvCJZO5",
      "execution_count": null,
      "outputs": []
    },
    {
      "cell_type": "code",
      "source": [
        "history = model.fit(train_data.batch(3), epochs=epochs, validation_data=validation_data.batch(1),)"
      ],
      "metadata": {
        "colab": {
          "base_uri": "https://localhost:8080/"
        },
        "id": "KB50MyaZJ0cn",
        "outputId": "ecbf4045-cdae-4bf0-eb37-e20b14627e8b"
      },
      "id": "KB50MyaZJ0cn",
      "execution_count": null,
      "outputs": [
        {
          "output_type": "stream",
          "name": "stdout",
          "text": [
            "Epoch 1/5\n",
            "1559/1559 [==============================] - 249s 160ms/step - loss: 0.0338 - accuracy: 0.9902 - val_loss: 0.2130 - val_accuracy: 0.9231\n",
            "Epoch 2/5\n",
            "1559/1559 [==============================] - 276s 177ms/step - loss: 0.0066 - accuracy: 0.9985 - val_loss: 0.4269 - val_accuracy: 0.9000\n",
            "Epoch 3/5\n",
            "1559/1559 [==============================] - 263s 169ms/step - loss: 0.0015 - accuracy: 1.0000 - val_loss: 0.3880 - val_accuracy: 0.9327\n",
            "Epoch 4/5\n",
            "1559/1559 [==============================] - 292s 187ms/step - loss: 2.0722e-04 - accuracy: 1.0000 - val_loss: 0.4293 - val_accuracy: 0.9327\n",
            "Epoch 5/5\n",
            "1559/1559 [==============================] - 241s 155ms/step - loss: 7.5784e-05 - accuracy: 1.0000 - val_loss: 0.4703 - val_accuracy: 0.9327\n"
          ]
        }
      ]
    },
    {
      "cell_type": "code",
      "source": [
        "train_data.batch(3), X_train.shape, y_train_encoded.shape"
      ],
      "metadata": {
        "id": "QLU4rTvJK9vU",
        "colab": {
          "base_uri": "https://localhost:8080/"
        },
        "outputId": "1732c6b8-1634-4281-8434-b819fb6a0688"
      },
      "id": "QLU4rTvJK9vU",
      "execution_count": null,
      "outputs": [
        {
          "output_type": "execute_result",
          "data": {
            "text/plain": [
              "(<_BatchDataset element_spec=(TensorSpec(shape=(None, 128, 64), dtype=tf.float32, name=None), TensorSpec(shape=(None, 2), dtype=tf.float32, name=None))>,\n",
              " (4677, 128, 64),\n",
              " (4677, 2))"
            ]
          },
          "metadata": {},
          "execution_count": 38
        }
      ]
    },
    {
      "cell_type": "code",
      "execution_count": null,
      "id": "71383a90-343e-498f-99d9-822b2a43f372",
      "metadata": {
        "id": "71383a90-343e-498f-99d9-822b2a43f372",
        "colab": {
          "base_uri": "https://localhost:8080/",
          "height": 472
        },
        "outputId": "03033cf1-3900-46b1-c65c-fa176e28f12d"
      },
      "outputs": [
        {
          "output_type": "display_data",
          "data": {
            "text/plain": [
              "<Figure size 640x480 with 2 Axes>"
            ],
            "image/png": "[encoded data removed]"
          },
          "metadata": {}
        }
      ],
      "source": [
        "spectrogram, sr, y, tmp = wav_to_spectrogram(folder_path + 'belly_pain/549a46d8-9c84-430e-ade8-97eae2bef787-1430130772174-1.7-m-48-bp.wav')\n",
        "D = librosa.stft(y)  #  short-time Fourier transform of y\n",
        "S_db = librosa.amplitude_to_db(np.abs(D), ref=np.max)\n",
        "fig, ax = plt.subplots()\n",
        "img = librosa.display.specshow(S_db, x_axis='time', y_axis='linear', ax=ax, sr=sr)\n",
        "fig.colorbar(img, ax=ax, format=\"%+2.f dB\")\n",
        "ax.set(title='Spectrogram of Sample Baby Cry');"
      ]
    },
    {
      "cell_type": "code",
      "execution_count": null,
      "id": "9d9588e9-8f69-4394-975f-22c275871fd4",
      "metadata": {
        "id": "9d9588e9-8f69-4394-975f-22c275871fd4"
      },
      "outputs": [],
      "source": []
    },
    {
      "cell_type": "code",
      "source": [
        "import matplotlib.pyplot as plt\n",
        "import numpy as np\n",
        "\n",
        "plt.imshow(X2[3], cmap='hot', interpolation='nearest')\n",
        "plt.show()"
      ],
      "metadata": {
        "colab": {
          "base_uri": "https://localhost:8080/",
          "height": 434
        },
        "id": "2Pqq4TDj415e",
        "outputId": "b795d8d5-000e-44c3-97aa-78e40a1c1ab9"
      },
      "id": "2Pqq4TDj415e",
      "execution_count": null,
      "outputs": [
        {
          "output_type": "display_data",
          "data": {
            "text/plain": [
              "<Figure size 640x480 with 1 Axes>"
            ],
            "image/png": "[encoded data removed]"
          },
          "metadata": {}
        }
      ]
    },
    {
      "cell_type": "code",
      "source": [
        "plt.imshow(Xtest[7], cmap='hot', interpolation='nearest')\n",
        "plt.show()"
      ],
      "metadata": {
        "colab": {
          "base_uri": "https://localhost:8080/",
          "height": 434
        },
        "id": "wN8izGMM4p77",
        "outputId": "53c1bd03-d629-469b-a453-d801b237de90"
      },
      "id": "wN8izGMM4p77",
      "execution_count": null,
      "outputs": [
        {
          "output_type": "display_data",
          "data": {
            "text/plain": [
              "<Figure size 640x480 with 1 Axes>"
            ],
            "image/png": "[encoded data removed]"
          },
          "metadata": {}
        }
      ]
    },
    {
      "cell_type": "code",
      "source": [
        "plt.imshow(Xtest[3], cmap='hot', interpolation='nearest')\n",
        "plt.show()"
      ],
      "metadata": {
        "colab": {
          "base_uri": "https://localhost:8080/",
          "height": 434
        },
        "id": "-tTmHDuKAVjG",
        "outputId": "ef5d66c9-f700-4bfc-a918-784282f324e1"
      },
      "id": "-tTmHDuKAVjG",
      "execution_count": null,
      "outputs": [
        {
          "output_type": "display_data",
          "data": {
            "text/plain": [
              "<Figure size 640x480 with 1 Axes>"
            ],
            "image/png": "[encoded data removed]"
          },
          "metadata": {}
        }
      ]
    },
    {
      "cell_type": "code",
      "source": [],
      "metadata": {
        "id": "6l5MZmGeAVvM"
      },
      "id": "6l5MZmGeAVvM",
      "execution_count": null,
      "outputs": []
    }
  ],
  "metadata": {
    "kernelspec": {
      "display_name": "Python 3",
      "language": "python",
      "name": "python3"
    },
    "language_info": {
      "codemirror_mode": {
        "name": "ipython",
        "version": 3
      },
      "file_extension": ".py",
      "mimetype": "text/x-python",
      "name": "python",
      "nbconvert_exporter": "python",
      "pygments_lexer": "ipython3",
      "version": "3.8.8"
    },
    "colab": {
      "provenance": []
    }
  },
  "nbformat": 4,
  "nbformat_minor": 5
}